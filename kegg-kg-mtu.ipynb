{
 "cells": [
  {
   "cell_type": "markdown",
   "id": "1e0eb3b3",
   "metadata": {},
   "source": [
    "### Notebook for Creating a KEGG-Based Knowledge Graph of Mycobacterium tuberculosis H37Rv\n",
    "\n",
    "In this notebook, we:\n",
    " - Demonstrate fetching and parsing KEGG data\n",
    " - Build a multi-layer Knowledge Graph (Genes, Pathways, KOs, Enzymes, Reactions, etc.)\n",
    " - Explore the resulting graph (stats, top nodes, subgraph visualization)\n",
    " - Identify and convert unsupported data types in node/edge attributes\n",
    " - Export the final KG in GEXF format for compatibility with tools like Gephi"
   ]
  },
  {
   "cell_type": "code",
   "execution_count": 149,
   "id": "90b31b64",
   "metadata": {
    "scrolled": true
   },
   "outputs": [
    {
     "name": "stdout",
     "output_type": "stream",
     "text": [
      "Requirement already satisfied: networkx in /home/ec2-user/anaconda3/envs/JupyterSystemEnv/lib/python3.10/site-packages (3.4.2)\n",
      "Requirement already satisfied: tqdm in /home/ec2-user/anaconda3/envs/JupyterSystemEnv/lib/python3.10/site-packages (4.67.1)\n",
      "Requirement already satisfied: requests in /home/ec2-user/anaconda3/envs/JupyterSystemEnv/lib/python3.10/site-packages (2.32.3)\n",
      "Requirement already satisfied: matplotlib in /home/ec2-user/anaconda3/envs/JupyterSystemEnv/lib/python3.10/site-packages (3.10.0)\n",
      "Requirement already satisfied: charset_normalizer<4,>=2 in /home/ec2-user/anaconda3/envs/JupyterSystemEnv/lib/python3.10/site-packages (from requests) (3.4.0)\n",
      "Requirement already satisfied: idna<4,>=2.5 in /home/ec2-user/anaconda3/envs/JupyterSystemEnv/lib/python3.10/site-packages (from requests) (3.10)\n",
      "Requirement already satisfied: urllib3<3,>=1.21.1 in /home/ec2-user/anaconda3/envs/JupyterSystemEnv/lib/python3.10/site-packages (from requests) (2.3.0)\n",
      "Requirement already satisfied: certifi>=2017.4.17 in /home/ec2-user/anaconda3/envs/JupyterSystemEnv/lib/python3.10/site-packages (from requests) (2024.12.14)\n",
      "Requirement already satisfied: contourpy>=1.0.1 in /home/ec2-user/anaconda3/envs/JupyterSystemEnv/lib/python3.10/site-packages (from matplotlib) (1.3.1)\n",
      "Requirement already satisfied: cycler>=0.10 in /home/ec2-user/anaconda3/envs/JupyterSystemEnv/lib/python3.10/site-packages (from matplotlib) (0.12.1)\n",
      "Requirement already satisfied: fonttools>=4.22.0 in /home/ec2-user/anaconda3/envs/JupyterSystemEnv/lib/python3.10/site-packages (from matplotlib) (4.55.3)\n",
      "Requirement already satisfied: kiwisolver>=1.3.1 in /home/ec2-user/anaconda3/envs/JupyterSystemEnv/lib/python3.10/site-packages (from matplotlib) (1.4.8)\n",
      "Requirement already satisfied: numpy>=1.23 in /home/ec2-user/anaconda3/envs/JupyterSystemEnv/lib/python3.10/site-packages (from matplotlib) (1.26.4)\n",
      "Requirement already satisfied: packaging>=20.0 in /home/ec2-user/anaconda3/envs/JupyterSystemEnv/lib/python3.10/site-packages (from matplotlib) (24.2)\n",
      "Requirement already satisfied: pillow>=8 in /home/ec2-user/anaconda3/envs/JupyterSystemEnv/lib/python3.10/site-packages (from matplotlib) (11.1.0)\n",
      "Requirement already satisfied: pyparsing>=2.3.1 in /home/ec2-user/anaconda3/envs/JupyterSystemEnv/lib/python3.10/site-packages (from matplotlib) (3.2.1)\n",
      "Requirement already satisfied: python-dateutil>=2.7 in /home/ec2-user/anaconda3/envs/JupyterSystemEnv/lib/python3.10/site-packages (from matplotlib) (2.9.0.post0)\n",
      "Requirement already satisfied: six>=1.5 in /home/ec2-user/anaconda3/envs/JupyterSystemEnv/lib/python3.10/site-packages (from python-dateutil>=2.7->matplotlib) (1.17.0)\n"
     ]
    }
   ],
   "source": [
    "# We install these packages to ensure we can fetch data (requests), parse data\n",
    "# (regular expressions), build graphs (networkx), track progress (tqdm),\n",
    "# and visualize (matplotlib).\n",
    "\n",
    "!pip install networkx tqdm requests matplotlib\n",
    "\n",
    "# The successful installation of these packages allows us to proceed with the\n",
    "# subsequent steps of data retrieval, parsing, graph construction, and visualization."
   ]
  },
  {
   "cell_type": "code",
   "execution_count": 150,
   "id": "5d779927",
   "metadata": {},
   "outputs": [],
   "source": [
    "import requests\n",
    "import networkx as nx\n",
    "import os\n",
    "import re\n",
    "import time\n",
    "from tqdm import tqdm\n",
    "from collections import Counter\n",
    "import matplotlib.pyplot as plt\n",
    "\n",
    "import logging\n",
    "logging.basicConfig(level=logging.INFO)"
   ]
  },
  {
   "cell_type": "code",
   "execution_count": 151,
   "id": "5f2d1a64",
   "metadata": {},
   "outputs": [],
   "source": [
    "# The following code outlines how we'll fetch KEGG data for genes and pathways\n",
    "# for organism code 'mtu' (Mycobacterium tuberculosis H37Rv).\n",
    "# We'll also maintain a cache directory to avoid repeated API calls.\n",
    "\n",
    "# If KEGG is momentarily unavailable or if there's a network issue, the code\n",
    "# handles exceptions gracefully. The cache directory ensures repeated runs\n",
    "# won't re-download the same data."
   ]
  },
  {
   "cell_type": "code",
   "execution_count": 152,
   "id": "fea45abf",
   "metadata": {},
   "outputs": [],
   "source": [
    "def fetch_kegg_list(organism=\"mtu\"):\n",
    "    \"\"\"\n",
    "    Fetches a list of KEGG genes for the specified organism ('mtu' by default).\n",
    "    Each returned line typically looks like: 'mtu:Rv0001\\tdnaA; Chromosomal replication initiator protein DnaA'.\n",
    "    \"\"\"\n",
    "    url = f\"http://rest.kegg.jp/list/{organism}\"\n",
    "    try:\n",
    "        response = requests.get(url)\n",
    "        if response.status_code == 200:\n",
    "            return response.text.strip().split(\"\\n\")\n",
    "        else:\n",
    "            logging.error(f\"[ERROR] Cannot fetch KEGG list for {organism}, status code={response.status_code}\")\n",
    "            return []\n",
    "    except requests.exceptions.RequestException as e:\n",
    "        logging.error(f\"[ERROR] Request exception while fetching KEGG list for {organism}: {e}\")\n",
    "        return []"
   ]
  },
  {
   "cell_type": "code",
   "execution_count": 153,
   "id": "2c4ec19a",
   "metadata": {},
   "outputs": [],
   "source": [
    "def fetch_pathway_list(organism=\"mtu\"):\n",
    "    \"\"\"\n",
    "    Fetches a list of KEGG pathways for the specified organism ('mtu' by default).\n",
    "    Each returned line typically looks like: 'mtu01100\\tMetabolic pathways - Mycobacterium tuberculosis H37Rv'.\n",
    "    \"\"\"\n",
    "    url = f\"http://rest.kegg.jp/list/pathway/{organism}\"\n",
    "    try:\n",
    "        response = requests.get(url)\n",
    "        if response.status_code == 200:\n",
    "            return response.text.strip().split(\"\\n\")\n",
    "        else:\n",
    "            logging.error(f\"[ERROR] Cannot fetch KEGG pathway list for {organism}, status={response.status_code}\")\n",
    "            return []\n",
    "    except requests.exceptions.RequestException as e:\n",
    "        logging.error(f\"[ERROR] Request exception while fetching KEGG pathway list for {organism}: {e}\")\n",
    "        return []"
   ]
  },
  {
   "cell_type": "code",
   "execution_count": 154,
   "id": "36e4d994",
   "metadata": {},
   "outputs": [],
   "source": [
    "def fetch_kegg_entry(entry_id, cache_dir=\"kegg_cache\"):\n",
    "    \"\"\"\n",
    "    Fetches and caches KEGG entry text (e.g. 'mtu:Rv0001').\n",
    "    If data is cached, returns from file. Otherwise, calls KEGG REST.\n",
    "\n",
    "    :param entry_id: full KEGG entry (e.g. \"mtu:Rv0001\")\n",
    "    :param cache_dir: folder to store .txt\n",
    "    \"\"\"\n",
    "    os.makedirs(cache_dir, exist_ok=True)\n",
    "    sanitized = entry_id.replace(\":\", \"_\")\n",
    "    cache_file = os.path.join(cache_dir, f\"{sanitized}.txt\")\n",
    "\n",
    "    if os.path.exists(cache_file):\n",
    "        with open(cache_file, \"r\", encoding=\"utf-8\") as f:\n",
    "            return f.read()\n",
    "    else:\n",
    "        url = f\"http://rest.kegg.jp/get/{entry_id}\"\n",
    "        try:\n",
    "            response = requests.get(url)\n",
    "            if response.status_code == 200:\n",
    "                text = response.text\n",
    "                with open(cache_file, \"w\", encoding=\"utf-8\") as f:\n",
    "                    f.write(text)\n",
    "                return text\n",
    "            else:\n",
    "                logging.error(f\"[ERROR] Cannot fetch KEGG entry {entry_id}, status={response.status_code}\")\n",
    "                return \"\"\n",
    "        except requests.exceptions.RequestException as e:\n",
    "            logging.error(f\"[ERROR] Request exception while fetching {entry_id}: {e}\")\n",
    "            return \"\""
   ]
  },
  {
   "cell_type": "code",
   "execution_count": 155,
   "id": "793c659a",
   "metadata": {},
   "outputs": [],
   "source": [
    "# These parse functions carefully extract data for pathways, modules, KOs, enzymes,\n",
    "# reactions, compounds, references, DBLINKS, synonyms, and organism info.\n",
    "\n",
    "# By separating logic for each field, we keep code modular and handle potential\n",
    "# missing data gracefully."
   ]
  },
  {
   "cell_type": "code",
   "execution_count": null,
   "id": "f21ed847",
   "metadata": {},
   "outputs": [],
   "source": [
    "def parse_pathways(entry_text):\n",
    "    \"\"\"\n",
    "    Extract 'PATHWAY' lines -> (pathway_id, description).\n",
    "    Example: 'PATHWAY     mtu00020  Citrate cycle (TCA cycle) - Mycobacterium tuberculosis H37Rv'.\n",
    "    \"\"\"\n",
    "    results = []\n",
    "    for line in entry_text.split(\"\\n\"):\n",
    "        if line.startswith(\"PATHWAY\"):\n",
    "            parts = line.strip().split(\"\\t\")\n",
    "            if len(parts) >= 2:\n",
    "                pid = parts[1].strip()\n",
    "                desc = \" \".join(parts[2:]).strip() if len(parts) > 2 else \"\"\n",
    "                results.append((pid, desc))\n",
    "    return results"
   ]
  },
  {
   "cell_type": "code",
   "execution_count": null,
   "id": "237265fb",
   "metadata": {},
   "outputs": [],
   "source": [
    "def parse_modules(entry_text):\n",
    "    \"\"\"\n",
    "    Extract 'MODULE' lines -> (module_id, description).\n",
    "    Example: 'MODULE      M00357    Fumarate reductase complex'.\n",
    "    \"\"\"\n",
    "    results = []\n",
    "    for line in entry_text.split(\"\\n\"):\n",
    "        if line.startswith(\"MODULE\"):\n",
    "            parts = line.strip().split(\"\\t\")\n",
    "            if len(parts) >= 2:\n",
    "                mid = parts[1].strip()\n",
    "                desc = \" \".join(parts[2:]).strip() if len(parts) > 2 else \"\"\n",
    "                results.append((mid, desc))\n",
    "    return results"
   ]
  },
  {
   "cell_type": "code",
   "execution_count": null,
   "id": "413d63da",
   "metadata": {},
   "outputs": [],
   "source": [
    "def parse_ko(entry_text):\n",
    "    \"\"\"\n",
    "    Extract 'ORTHOLOGY' lines -> list of KOs (Kxxxxx).\n",
    "    Example: 'ORTHOLOGY  K02313  dnaA; Chromosomal replication initiator protein DnaA'.\n",
    "    \"\"\"\n",
    "    kos = []\n",
    "    for line in entry_text.split(\"\\n\"):\n",
    "        if line.startswith(\"ORTHOLOGY\"):\n",
    "            matches = re.findall(r\"(K\\d+)\", line)\n",
    "            kos.extend(matches)\n",
    "    return kos"
   ]
  },
  {
   "cell_type": "code",
   "execution_count": null,
   "id": "3eac4058",
   "metadata": {},
   "outputs": [],
   "source": [
    "def parse_enzymes(entry_text):\n",
    "    \"\"\"\n",
    "    Extract 'ENZYME' lines -> list of EC numbers (e.g. [\"2.7.7.7\",\"3.1.3.1\"]).\n",
    "    Example: 'ENZYME      2.7.7.7  3.1.3.1'.\n",
    "    \"\"\"\n",
    "    ec_numbers = []\n",
    "    for line in entry_text.split(\"\\n\"):\n",
    "        if line.startswith(\"ENZYME\"):\n",
    "            matches = re.findall(r\"(\\d+\\.\\d+\\.\\d+\\.\\d+)\", line)\n",
    "            ec_numbers.extend(matches)\n",
    "    return ec_numbers"
   ]
  },
  {
   "cell_type": "code",
   "execution_count": null,
   "id": "108d7867",
   "metadata": {},
   "outputs": [],
   "source": [
    "def parse_reactions(entry_text):\n",
    "    \"\"\"\n",
    "    Extract 'REACTION' lines -> list of Reaction IDs (Rxxxxx).\n",
    "    Example: 'REACTION    R03067'.\n",
    "    \"\"\"\n",
    "    results = []\n",
    "    for line in entry_text.split(\"\\n\"):\n",
    "        if line.startswith(\"REACTION\"):\n",
    "            parts = line.strip().split()\n",
    "            for item in parts[1:]:\n",
    "                if item.startswith(\"R\"):\n",
    "                    results.append(item.strip())\n",
    "    return results"
   ]
  },
  {
   "cell_type": "code",
   "execution_count": null,
   "id": "bc4e121a",
   "metadata": {},
   "outputs": [],
   "source": [
    "def parse_compounds(entry_text):\n",
    "    \"\"\"\n",
    "    Extract 'COMPOUND' lines -> list of (compound_id, compound_name).\n",
    "    Example:\n",
    "        COMPOUND    C00002  ATP\n",
    "                    C00008  ADP\n",
    "    \"\"\"\n",
    "    results = []\n",
    "    in_compound_section = False\n",
    "    lines = entry_text.split(\"\\n\")\n",
    "    for line in lines:\n",
    "        if line.startswith(\"COMPOUND\"):\n",
    "            in_compound_section = True\n",
    "            parts = line.strip().split(None, 2)\n",
    "            if len(parts) == 3:\n",
    "                cid = parts[1].strip()\n",
    "                cname = parts[2].strip()\n",
    "                if cid.startswith(\"C\"):\n",
    "                    results.append((cid, cname))\n",
    "            continue\n",
    "        if in_compound_section:\n",
    "            if (line.startswith(\"PATHWAY\") or line.startswith(\"MODULE\") or \n",
    "                line.startswith(\"ORTHOLOGY\") or line.startswith(\"GENE\") or \n",
    "                line.startswith(\"REFERENCE\") or line.startswith(\"///\")):\n",
    "                in_compound_section = False\n",
    "                continue\n",
    "            else:\n",
    "                parts = line.strip().split(None, 1)\n",
    "                if len(parts) == 2:\n",
    "                    cid = parts[0].strip()\n",
    "                    cname = parts[1].strip()\n",
    "                    if cid.startswith(\"C\"):\n",
    "                        results.append((cid, cname))\n",
    "    return results"
   ]
  },
  {
   "cell_type": "code",
   "execution_count": null,
   "id": "fff6c993",
   "metadata": {},
   "outputs": [],
   "source": [
    "def parse_references(entry_text):\n",
    "    \"\"\"\n",
    "    Extract references from 'REFERENCE' blocks.\n",
    "    Returns list of dicts with fields: authors, title, journal, pubmed, medline, doi.\n",
    "    \"\"\"\n",
    "    lines = entry_text.split(\"\\n\")\n",
    "    refs = []\n",
    "    current_ref = {}\n",
    "    in_ref_block = False\n",
    "    for line in lines:\n",
    "        if line.startswith(\"REFERENCE\"):\n",
    "            if current_ref:\n",
    "                refs.append(current_ref)\n",
    "            current_ref = {}\n",
    "            in_ref_block = True\n",
    "            continue\n",
    "        if in_ref_block:\n",
    "            if line.strip().startswith(\"AUTHORS\"):\n",
    "                current_ref[\"authors\"] = line.split(\"AUTHORS\",1)[-1].strip()\n",
    "            elif line.strip().startswith(\"TITLE\"):\n",
    "                current_ref[\"title\"] = line.split(\"TITLE\",1)[-1].strip()\n",
    "            elif line.strip().startswith(\"JOURNAL\"):\n",
    "                current_ref[\"journal\"] = line.split(\"JOURNAL\",1)[-1].strip()\n",
    "            elif line.strip().startswith(\"PUBMED\"):\n",
    "                current_ref[\"pubmed\"] = line.split(\"PUBMED\",1)[-1].strip()\n",
    "            elif line.strip().startswith(\"MEDLINE\"):\n",
    "                current_ref[\"medline\"] = line.split(\"MEDLINE\",1)[-1].strip()\n",
    "            elif line.strip().startswith(\"DOI\"):\n",
    "                current_ref[\"doi\"] = line.split(\"DOI\",1)[-1].strip()\n",
    "            if (line.startswith(\"PATHWAY\") or line.startswith(\"MODULE\") or\n",
    "                line.startswith(\"ORTHOLOGY\") or line.startswith(\"GENE\") or\n",
    "                line.startswith(\"///\")):\n",
    "                in_ref_block = False\n",
    "    if current_ref:\n",
    "        refs.append(current_ref)\n",
    "    return refs"
   ]
  },
  {
   "cell_type": "code",
   "execution_count": null,
   "id": "90068532",
   "metadata": {},
   "outputs": [],
   "source": [
    "def parse_dblinks(entry_text):\n",
    "    \"\"\"\n",
    "    Extract DBLINKS section -> {db_name: db_val}.\n",
    "    Example lines:\n",
    "        DBLINKS     NCBI-GI: 15607964\n",
    "                    UniProt: P9WID9\n",
    "    \"\"\"\n",
    "    dblinks = {}\n",
    "    in_section = False\n",
    "    lines = entry_text.split(\"\\n\")\n",
    "    for line in lines:\n",
    "        if line.startswith(\"DBLINKS\"):\n",
    "            in_section = True\n",
    "            parts = line.replace(\"DBLINKS\",\"\").strip().split(\":\",1)\n",
    "            if len(parts) == 2:\n",
    "                db_name = parts[0].strip()\n",
    "                db_val  = parts[1].strip()\n",
    "                dblinks[db_name] = db_val\n",
    "            continue\n",
    "        if in_section:\n",
    "            if (line.startswith(\"PATHWAY\") or line.startswith(\"MODULE\") or \n",
    "                line.startswith(\"ORTHOLOGY\") or line.startswith(\"GENE\") or\n",
    "                line.startswith(\"REFERENCE\") or line.startswith(\"///\")):\n",
    "                in_section = False\n",
    "            else:\n",
    "                parts = line.strip().split(\":\",1)\n",
    "                if len(parts) == 2:\n",
    "                    db_name = parts[0].strip()\n",
    "                    db_val  = parts[1].strip()\n",
    "                    dblinks[db_name] = db_val\n",
    "    return dblinks"
   ]
  },
  {
   "cell_type": "code",
   "execution_count": null,
   "id": "1d10fe5b",
   "metadata": {},
   "outputs": [],
   "source": [
    "def parse_names(entry_text):\n",
    "    \"\"\"\n",
    "    Extract synonyms from the 'NAME' field.\n",
    "    Example line:\n",
    "        NAME        dnaA, Rv0001\n",
    "    \"\"\"\n",
    "    names = []\n",
    "    for line in entry_text.split(\"\\n\"):\n",
    "        if line.startswith(\"NAME\"):\n",
    "            parts = line.split(None,1)\n",
    "            if len(parts) == 2:\n",
    "                name_field = parts[1].strip()\n",
    "                splitted = [x.strip() for x in name_field.split(\",\")]\n",
    "                names.extend(splitted)\n",
    "    return names"
   ]
  },
  {
   "cell_type": "code",
   "execution_count": null,
   "id": "3317139f",
   "metadata": {},
   "outputs": [],
   "source": [
    "def parse_organism(entry_text):\n",
    "    \"\"\"\n",
    "    Extracts (org_code, org_name) from 'ORGANISM' line.\n",
    "    Example: 'ORGANISM    mtu  Mycobacterium tuberculosis H37Rv'.\n",
    "    \"\"\"\n",
    "    for line in entry_text.split(\"\\n\"):\n",
    "        if line.startswith(\"ORGANISM\"):\n",
    "            parts = line.strip().split(None,2)\n",
    "            if len(parts) >= 3:\n",
    "                return (parts[1].strip(), parts[2].strip())\n",
    "    return (None, None)"
   ]
  },
  {
   "cell_type": "code",
   "execution_count": 156,
   "id": "aa81078c",
   "metadata": {},
   "outputs": [],
   "source": [
    "# The above parse functions allow us to gather each piece of KEGG annotation\n",
    "# data from each gene entry text systematically.\n",
    "\n",
    "# We'll store all the parsed data (genes, pathways, modules, KO, etc.) in\n",
    "# this graph, labeling edges according to their relationships."
   ]
  },
  {
   "cell_type": "code",
   "execution_count": null,
   "id": "4c245033",
   "metadata": {},
   "outputs": [],
   "source": [
    "G = nx.MultiDiGraph()"
   ]
  },
  {
   "cell_type": "code",
   "execution_count": null,
   "id": "1280fef0",
   "metadata": {},
   "outputs": [],
   "source": [
    "# A MultiDiGraph allows parallel edges (with different labels) between the\n",
    "# same nodes if needed."
   ]
  },
  {
   "cell_type": "code",
   "execution_count": 157,
   "id": "ce5747e4",
   "metadata": {},
   "outputs": [
    {
     "name": "stdout",
     "output_type": "stream",
     "text": [
      "=== STEP 1: Add Genes to the Graph ===\n",
      "Total Genes added: 21366\n"
     ]
    }
   ],
   "source": [
    "print(\"=== STEP 1: Add Genes to the Graph ===\")\n",
    "gene_lines = fetch_kegg_list(\"mtu\")\n",
    "\n",
    "for line in gene_lines:\n",
    "    parts = line.split(\"\\t\")\n",
    "    if len(parts) < 2:\n",
    "        continue\n",
    "    entry = parts[0].strip()     # e.g. \"mtu:Rv0001\"\n",
    "    desc  = parts[1].strip()     # e.g. \"dnaA; Chromosomal replication initiator protein DnaA\"\n",
    "\n",
    "    gene_id = entry.replace(\"mtu:\", \"\")\n",
    "    desc_split = desc.split(\";\")\n",
    "    if len(desc_split) > 1:\n",
    "        short_name = desc_split[0].strip()\n",
    "        full_desc  = desc_split[1].strip()\n",
    "    else:\n",
    "        short_name = desc\n",
    "        full_desc  = desc\n",
    "\n",
    "    gene_node_id = f\"Gene:{gene_id}\"\n",
    "    G.add_node(\n",
    "        gene_node_id,\n",
    "        label=\"Gene\",\n",
    "        gene_id=gene_id,\n",
    "        gene_symbol=short_name,\n",
    "        description=full_desc\n",
    "    )\n",
    "\n",
    "print(f\"Total Genes added: {len(G.nodes())}\")\n",
    "\n",
    "# The number of nodes after adding genes equals the number of Gene nodes inserted. We haven't yet added Pathway nodes."
   ]
  },
  {
   "cell_type": "code",
   "execution_count": null,
   "id": "2d8eaefa",
   "metadata": {},
   "outputs": [],
   "source": [
    "print(\"=== STEP 2: Add Pathways to the Graph ===\")\n",
    "pathway_lines = fetch_pathway_list(\"mtu\")\n",
    "for line in pathway_lines:\n",
    "    parts = line.split(\"\\t\")\n",
    "    if len(parts) < 2:\n",
    "        continue\n",
    "    pid  = parts[0].strip()   # e.g. \"mtu01100\"\n",
    "    pdes = parts[1].strip()   # e.g. \"Metabolic pathways - Mycobacterium tuberculosis H37Rv\"\n",
    "\n",
    "    pw_node_id = f\"Pathway:{pid}\"\n",
    "    G.add_node(\n",
    "        pw_node_id,\n",
    "        label=\"Pathway\",\n",
    "        pathway_id=pid,\n",
    "        description=pdes\n",
    "    )\n",
    "\n",
    "print(f\"Total Genes + Pathways so far: {G.number_of_nodes()}\")"
   ]
  },
  {
   "cell_type": "code",
   "execution_count": null,
   "id": "4e73fab0",
   "metadata": {},
   "outputs": [],
   "source": [
    "# We see an increased node count, now reflecting both Genes and Pathways."
   ]
  },
  {
   "cell_type": "code",
   "execution_count": null,
   "id": "f95e689a",
   "metadata": {},
   "outputs": [],
   "source": [
    "# For each gene, we parse the KEGG entry text and create edges to the appropriate\n",
    "# nodes for pathways, modules, KOs, enzymes, reactions, compounds, references, DBLINKS."
   ]
  },
  {
   "cell_type": "code",
   "execution_count": null,
   "id": "fb50f85d",
   "metadata": {},
   "outputs": [],
   "source": [
    "print(\"=== STEP 3: Link Genes to Pathways, Modules, KOs, etc. ===\")\n",
    "with tqdm(total=len(gene_lines), desc=\"Processing Genes\") as pbar:\n",
    "    for line in gene_lines:\n",
    "        parts = line.split(\"\\t\")\n",
    "        if len(parts) < 2:\n",
    "            pbar.update(1)\n",
    "            continue\n",
    "\n",
    "        entry = parts[0].strip()  # e.g. \"mtu:Rv0001\"\n",
    "        gene_id = entry.replace(\"mtu:\", \"\")\n",
    "        gene_node_id = f\"Gene:{gene_id}\"\n",
    "\n",
    "        # Fetch entry text (cached)\n",
    "        entry_text = fetch_kegg_entry(entry)\n",
    "        if not entry_text:\n",
    "            pbar.update(1)\n",
    "            continue\n",
    "\n",
    "        # 1. Synonyms\n",
    "        syns = parse_names(entry_text)\n",
    "        if G.has_node(gene_node_id):\n",
    "            old = G.nodes[gene_node_id].get(\"synonyms\", [])\n",
    "            G.nodes[gene_node_id][\"synonyms\"] = list(set(old + syns))\n",
    "\n",
    "        # 2. Organism\n",
    "        org_code, org_name = parse_organism(entry_text)\n",
    "        if G.has_node(gene_node_id):\n",
    "            G.nodes[gene_node_id][\"organism_code\"] = org_code\n",
    "            G.nodes[gene_node_id][\"organism_name\"] = org_name\n",
    "\n",
    "        # 3. Pathways\n",
    "        pways = parse_pathways(entry_text)\n",
    "        for (pid, pdesc) in pways:\n",
    "            pw_node_id = f\"Pathway:{pid}\"\n",
    "            if not G.has_node(pw_node_id):\n",
    "                G.add_node(pw_node_id, label=\"Pathway\", pathway_id=pid, description=pdesc)\n",
    "            G.add_edge(gene_node_id, pw_node_id, label=\"IN_PATHWAY\")\n",
    "\n",
    "        # 4. Modules\n",
    "        mods = parse_modules(entry_text)\n",
    "        for (mid, mdes) in mods:\n",
    "            mod_node_id = f\"Module:{mid}\"\n",
    "            if not G.has_node(mod_node_id):\n",
    "                G.add_node(mod_node_id, label=\"Module\", module_id=mid, description=mdes)\n",
    "            G.add_edge(gene_node_id, mod_node_id, label=\"IN_MODULE\")\n",
    "\n",
    "        # 5. KOs\n",
    "        kos = parse_ko(entry_text)\n",
    "        for kcode in kos:\n",
    "            ko_node_id = f\"KO:{kcode}\"\n",
    "            if not G.has_node(ko_node_id):\n",
    "                G.add_node(ko_node_id, label=\"KO\", ko_id=kcode)\n",
    "            G.add_edge(gene_node_id, ko_node_id, label=\"HAS_KO\")\n",
    "\n",
    "        # 6. Enzymes (EC)\n",
    "        ecs = parse_enzymes(entry_text)\n",
    "        for ecnum in ecs:\n",
    "            ec_node_id = f\"Enzyme:{ecnum}\"\n",
    "            if not G.has_node(ec_node_id):\n",
    "                G.add_node(ec_node_id, label=\"Enzyme\", ec_number=ecnum)\n",
    "            G.add_edge(gene_node_id, ec_node_id, label=\"HAS_ENZYME\")\n",
    "\n",
    "        # 7. Reactions (R)\n",
    "        rxns = parse_reactions(entry_text)\n",
    "        for rx_id in rxns:\n",
    "            rx_node_id = f\"Reaction:{rx_id}\"\n",
    "            if not G.has_node(rx_node_id):\n",
    "                G.add_node(rx_node_id, label=\"Reaction\", reaction_id=rx_id)\n",
    "            G.add_edge(gene_node_id, rx_node_id, label=\"ASSOCIATED_WITH_REACTION\")\n",
    "\n",
    "        # 8. Compounds (C)\n",
    "        comps = parse_compounds(entry_text)\n",
    "        for (cid, cname) in comps:\n",
    "            c_node_id = f\"Compound:{cid}\"\n",
    "            if not G.has_node(c_node_id):\n",
    "                G.add_node(c_node_id, label=\"Compound\", compound_id=cid, compound_name=cname)\n",
    "            G.add_edge(gene_node_id, c_node_id, label=\"ASSOCIATED_WITH_COMPOUND\")\n",
    "\n",
    "        # 9. References\n",
    "        refs = parse_references(entry_text)\n",
    "        for r in refs:\n",
    "            pubmed_id = r.get(\"pubmed\")\n",
    "            if pubmed_id:\n",
    "                ref_node_id = f\"Reference:PUBMED:{pubmed_id}\"\n",
    "            else:\n",
    "                doi = r.get(\"doi\")\n",
    "                if doi:\n",
    "                    ref_node_id = f\"Reference:DOI:{doi}\"\n",
    "                else:\n",
    "                    ref_node_id = f\"Reference:{id(r)}\"\n",
    "            if not G.has_node(ref_node_id):\n",
    "                G.add_node(ref_node_id,\n",
    "                           label=\"Reference\",\n",
    "                           authors=r.get(\"authors\",\"\"),\n",
    "                           title=r.get(\"title\",\"\"),\n",
    "                           journal=r.get(\"journal\",\"\"),\n",
    "                           pubmed=r.get(\"pubmed\",\"\"),\n",
    "                           medline=r.get(\"medline\",\"\"),\n",
    "                           doi=r.get(\"doi\",\"\"))\n",
    "            G.add_edge(gene_node_id, ref_node_id, label=\"HAS_REFERENCE\")\n",
    "\n",
    "        # 10. DBLINKS\n",
    "        dbl = parse_dblinks(entry_text)\n",
    "        for db_name, db_val in dbl.items():\n",
    "            db_node_id = f\"DB:{db_name}:{db_val}\"\n",
    "            if not G.has_node(db_node_id):\n",
    "                G.add_node(db_node_id, label=\"ExternalDB\", db_name=db_name, db_id=db_val)\n",
    "            G.add_edge(gene_node_id, db_node_id, label=\"HAS_DBLINK\")\n",
    "\n",
    "        time.sleep(0.05)  # small delay\n",
    "        pbar.update(1)\n",
    "\n",
    "print(\"=== Finished Building the KEGG Knowledge Graph ===\")"
   ]
  },
  {
   "cell_type": "code",
   "execution_count": null,
   "id": "5eff136a",
   "metadata": {},
   "outputs": [],
   "source": [
    "# At this point, our graph G should contain Genes, Pathways, Modules, KOs,\n",
    "# Enzymes, Reactions, Compounds, References, and ExternalDB nodes, plus\n",
    "# edges representing their relationships."
   ]
  },
  {
   "cell_type": "code",
   "execution_count": 158,
   "id": "648dc5cf",
   "metadata": {},
   "outputs": [
    {
     "name": "stdout",
     "output_type": "stream",
     "text": [
      "\n",
      "=== BASIC STATS ===\n",
      "Total nodes: 21366\n",
      "Total edges: 17658\n"
     ]
    }
   ],
   "source": [
    "print(\"\\n=== BASIC STATS ===\")\n",
    "num_nodes = G.number_of_nodes()\n",
    "num_edges = G.number_of_edges()\n",
    "print(f\"Total nodes: {num_nodes}\")\n",
    "print(f\"Total edges: {num_edges}\")"
   ]
  },
  {
   "cell_type": "code",
   "execution_count": 159,
   "id": "0cd00689",
   "metadata": {},
   "outputs": [],
   "source": [
    "# This helps us see how many Genes, Pathways, KOs, etc., exist in the graph,\n",
    "# as well as the different types of edges (labels) connecting them."
   ]
  },
  {
   "cell_type": "code",
   "execution_count": 160,
   "id": "af60b6dd",
   "metadata": {},
   "outputs": [
    {
     "name": "stdout",
     "output_type": "stream",
     "text": [
      "\n",
      "Node Label Distribution:\n",
      " - Gene: 4008\n",
      " - Pathway: 141\n",
      " - KO: 1520\n",
      " - ExternalDB: 15697\n"
     ]
    }
   ],
   "source": [
    "node_label_counts = Counter(d.get(\"label\",\"Unknown\") for _, d in G.nodes(data=True))\n",
    "print(\"\\nNode Label Distribution:\")\n",
    "for lbl, cnt in node_label_counts.items():\n",
    "    print(f\" - {lbl}: {cnt}\")"
   ]
  },
  {
   "cell_type": "code",
   "execution_count": 161,
   "id": "5e49491a",
   "metadata": {},
   "outputs": [
    {
     "name": "stdout",
     "output_type": "stream",
     "text": [
      "\n",
      "Edge Label Distribution:\n",
      " - HAS_KO: 1950\n",
      " - HAS_DBLINK: 15708\n"
     ]
    }
   ],
   "source": [
    "edge_label_counts = Counter(d.get(\"label\",\"Unknown\") for _,_,d in G.edges(data=True))\n",
    "print(\"\\nEdge Label Distribution:\")\n",
    "for lbl, cnt in edge_label_counts.items():\n",
    "    print(f\" - {lbl}: {cnt}\")"
   ]
  },
  {
   "cell_type": "code",
   "execution_count": null,
   "id": "75232f67",
   "metadata": {},
   "outputs": [],
   "source": [
    "# We'll typically see many ExternalDB and KO connections, fewer references,\n",
    "# pathways, or modules, depending on KEGG annotation completeness."
   ]
  },
  {
   "cell_type": "code",
   "execution_count": 162,
   "id": "08df11f8",
   "metadata": {},
   "outputs": [
    {
     "name": "stdout",
     "output_type": "stream",
     "text": [
      "\n",
      "=== Identifying Top Genes, Pathways, KOs ===\n",
      "Top 10 Genes by Degree:\n",
      " - Gene:Rv0001 | symbol=CDS, degree=5, desc=CDS...\n",
      " - Gene:Rv0002 | symbol=CDS, degree=5, desc=CDS...\n",
      " - Gene:Rv0003 | symbol=CDS, degree=5, desc=CDS...\n",
      " - Gene:Rv0005 | symbol=CDS, degree=5, desc=CDS...\n",
      " - Gene:Rv0006 | symbol=CDS, degree=5, desc=CDS...\n",
      " - Gene:Rv0009 | symbol=CDS, degree=5, desc=CDS...\n",
      " - Gene:Rv0013 | symbol=CDS, degree=5, desc=CDS...\n",
      " - Gene:Rv0014c | symbol=CDS, degree=5, desc=CDS...\n",
      " - Gene:Rv0015c | symbol=CDS, degree=5, desc=CDS...\n",
      " - Gene:Rv0016c | symbol=CDS, degree=5, desc=CDS...\n"
     ]
    }
   ],
   "source": [
    "print(\"\\n=== Identifying Top Genes, Pathways, KOs ===\")\n",
    "\n",
    "# Genes\n",
    "gene_nodes = [n for n, d in G.nodes(data=True) if d.get(\"label\")==\"Gene\"]\n",
    "gene_degree = {gn: G.degree(gn) for gn in gene_nodes}\n",
    "top_genes = sorted(gene_degree.items(), key=lambda x: x[1], reverse=True)[:10]\n",
    "\n",
    "print(\"Top 10 Genes by Degree:\")\n",
    "for g, deg in top_genes:\n",
    "    sym = G.nodes[g].get(\"gene_symbol\",\"N/A\")\n",
    "    desc= G.nodes[g].get(\"description\",\"\")\n",
    "    print(f\" - {g} | symbol={sym}, degree={deg}, desc={desc[:60]}...\")"
   ]
  },
  {
   "cell_type": "code",
   "execution_count": 163,
   "id": "2f2bf14b",
   "metadata": {},
   "outputs": [
    {
     "name": "stdout",
     "output_type": "stream",
     "text": [
      "\n",
      "Top 10 Pathways by # Genes connected:\n",
      " - Pathway:mtu01100 | #Genes=0, desc=Metabolic pathways - Mycobacterium tuberculosis H37Rv...\n",
      " - Pathway:mtu01110 | #Genes=0, desc=Biosynthesis of secondary metabolites - Mycobacterium tuberc...\n",
      " - Pathway:mtu01120 | #Genes=0, desc=Microbial metabolism in diverse environments - Mycobacterium...\n",
      " - Pathway:mtu01200 | #Genes=0, desc=Carbon metabolism - Mycobacterium tuberculosis H37Rv...\n",
      " - Pathway:mtu01210 | #Genes=0, desc=2-Oxocarboxylic acid metabolism - Mycobacterium tuberculosis...\n",
      " - Pathway:mtu01212 | #Genes=0, desc=Fatty acid metabolism - Mycobacterium tuberculosis H37Rv...\n",
      " - Pathway:mtu01230 | #Genes=0, desc=Biosynthesis of amino acids - Mycobacterium tuberculosis H37...\n",
      " - Pathway:mtu01232 | #Genes=0, desc=Nucleotide metabolism - Mycobacterium tuberculosis H37Rv...\n",
      " - Pathway:mtu01250 | #Genes=0, desc=Biosynthesis of nucleotide sugars - Mycobacterium tuberculos...\n",
      " - Pathway:mtu01240 | #Genes=0, desc=Biosynthesis of cofactors - Mycobacterium tuberculosis H37Rv...\n"
     ]
    }
   ],
   "source": [
    "# Pathways\n",
    "pw_nodes = [n for n,d in G.nodes(data=True) if d.get(\"label\")==\"Pathway\"]\n",
    "pathway_count = {}\n",
    "for pw in pw_nodes:\n",
    "    # Count how many Genes link to this Pathway\n",
    "    count = sum(1 for (u,v,d2) in G.in_edges(pw, data=True) if d2.get(\"label\")==\"IN_PATHWAY\" and u.startswith(\"Gene:\"))\n",
    "    pathway_count[pw] = count\n",
    "top_pathways = sorted(pathway_count.items(), key=lambda x:x[1], reverse=True)[:10]\n",
    "\n",
    "print(\"\\nTop 10 Pathways by # Genes connected:\")\n",
    "for pw, c in top_pathways:\n",
    "    desc = G.nodes[pw].get(\"description\",\"\")\n",
    "    print(f\" - {pw} | #Genes={c}, desc={desc[:60]}...\")"
   ]
  },
  {
   "cell_type": "code",
   "execution_count": 164,
   "id": "589484e3",
   "metadata": {},
   "outputs": [
    {
     "name": "stdout",
     "output_type": "stream",
     "text": [
      "\n",
      "Top 10 KOs by # Genes connected:\n",
      " - KO:K02067 | KO_ID=K02067, #Genes=23\n",
      " - KO:K14956 | KO_ID=K14956, #Genes=22\n",
      " - KO:K07064 | KO_ID=K07064, #Genes=19\n",
      " - KO:K00635 | KO_ID=K00635, #Genes=14\n",
      " - KO:K06994 | KO_ID=K06994, #Genes=12\n",
      " - KO:K18481 | KO_ID=K18481, #Genes=11\n",
      " - KO:K03088 | KO_ID=K03088, #Genes=10\n",
      " - KO:K07171 | KO_ID=K07171, #Genes=10\n",
      " - KO:K00626 | KO_ID=K00626, #Genes=9\n",
      " - KO:K00666 | KO_ID=K00666, #Genes=8\n"
     ]
    }
   ],
   "source": [
    "# KOs\n",
    "ko_nodes = [n for n,d in G.nodes(data=True) if d.get(\"label\")==\"KO\"]\n",
    "ko_count = {}\n",
    "for ko in ko_nodes:\n",
    "    # Count Genes with HAS_KO\n",
    "    c = sum(1 for (u,v,d2) in G.in_edges(ko, data=True) if d2.get(\"label\")==\"HAS_KO\" and u.startswith(\"Gene:\"))\n",
    "    ko_count[ko] = c\n",
    "top_kos = sorted(ko_count.items(), key=lambda x:x[1], reverse=True)[:10]\n",
    "\n",
    "print(\"\\nTop 10 KOs by # Genes connected:\")\n",
    "for ko, c in top_kos:\n",
    "    koid = G.nodes[ko].get(\"ko_id\",\"N/A\")\n",
    "    print(f\" - {ko} | KO_ID={koid}, #Genes={c}\")"
   ]
  },
  {
   "cell_type": "code",
   "execution_count": 165,
   "id": "dd536b7b",
   "metadata": {},
   "outputs": [],
   "source": [
    "# We can see which genes, pathways, or KOs are most connected, indicating\n",
    "# their importance or prevalence in KEGG's annotation."
   ]
  },
  {
   "cell_type": "code",
   "execution_count": 166,
   "id": "59d0f689",
   "metadata": {},
   "outputs": [
    {
     "name": "stdout",
     "output_type": "stream",
     "text": [
      "\n",
      "=== Example Queries (Pathways, Reactions, etc.) ===\n",
      "\n",
      "Gene Rv0001 -> Pathways: []\n",
      "Gene Rv0001 -> Reactions: []\n",
      "Gene Rv0001 -> DBLinks: ['DB:NCBI-GeneID:885041', 'DB:NCBI-ProteinID:NP_214515', 'DB:TubercuList:Rv0001', 'DB:UniProt:P9WNW3']\n",
      "\n",
      "Gene Rv0667 -> Pathways: []\n",
      "Gene Rv0667 -> Reactions: []\n",
      "Gene Rv0667 -> DBLinks: ['DB:NCBI-GeneID:888164', 'DB:NCBI-ProteinID:NP_215181', 'DB:TubercuList:Rv0667', 'DB:UniProt:P9WGY9']\n",
      "\n",
      "Gene Rv1908c -> Pathways: []\n",
      "Gene Rv1908c -> Reactions: []\n",
      "Gene Rv1908c -> DBLinks: ['DB:NCBI-GeneID:885638', 'DB:NCBI-ProteinID:NP_216424', 'DB:TubercuList:Rv1908c', 'DB:UniProt:P9WIE5 I6YBX7']\n",
      "\n",
      "Gene Rv1484 -> Pathways: []\n",
      "Gene Rv1484 -> Reactions: []\n",
      "Gene Rv1484 -> DBLinks: ['DB:NCBI-GeneID:886523', 'DB:NCBI-ProteinID:NP_216000', 'DB:TubercuList:Rv1484', 'DB:UniProt:P9WGR1']\n",
      "\n",
      "Gene Rv2044 -> Pathways: []\n",
      "Gene Rv2044 -> Reactions: []\n",
      "Gene Rv2044 -> DBLinks: []\n",
      "\n",
      "Gene Rv3785 -> Pathways: []\n",
      "Gene Rv3785 -> Reactions: []\n",
      "Gene Rv3785 -> DBLinks: ['DB:NCBI-GeneID:886119', 'DB:NCBI-ProteinID:NP_218302', 'DB:TubercuList:Rv3785', 'DB:UniProt:P9WKX1']\n",
      "\n",
      "Gene Rv0006 -> Pathways: []\n",
      "Gene Rv0006 -> Reactions: []\n",
      "Gene Rv0006 -> DBLinks: ['DB:NCBI-GeneID:887105', 'DB:NCBI-ProteinID:NP_214520', 'DB:TubercuList:Rv0006', 'DB:UniProt:P9WG47']\n"
     ]
    }
   ],
   "source": [
    "print(\"\\n=== Example Queries (Pathways, Reactions, etc.) ===\")\n",
    "def get_pathways_for_gene(gene_id):\n",
    "    g_node = f\"Gene:{gene_id}\"\n",
    "    if not G.has_node(g_node):\n",
    "        return []\n",
    "    return [\n",
    "        v for (u, v, k) in G.out_edges(g_node, keys=True)\n",
    "        if G[u][v][k].get(\"label\")==\"IN_PATHWAY\"\n",
    "    ]\n",
    "\n",
    "def get_reactions_for_gene(gene_id):\n",
    "    g_node = f\"Gene:{gene_id}\"\n",
    "    if not G.has_node(g_node):\n",
    "        return []\n",
    "    return [\n",
    "        v for (u, v, k) in G.out_edges(g_node, keys=True)\n",
    "        if G[u][v][k].get(\"label\")==\"ASSOCIATED_WITH_REACTION\"\n",
    "    ]\n",
    "\n",
    "def get_dblinks_for_gene(gene_id):\n",
    "    g_node = f\"Gene:{gene_id}\"\n",
    "    if not G.has_node(g_node):\n",
    "        return []\n",
    "    return [\n",
    "        v for (u,v,k) in G.out_edges(g_node, keys=True)\n",
    "        if G[u][v][k].get(\"label\")==\"HAS_DBLINK\"\n",
    "    ]\n",
    "\n",
    "test_genes = [\"Rv0001\",\"Rv0667\",\"Rv1908c\",\"Rv1484\",\"Rv2044\",\"Rv3785\",\"Rv0006\"]\n",
    "for tg in test_genes:\n",
    "    print(f\"\\nGene {tg} -> Pathways: {get_pathways_for_gene(tg)}\")\n",
    "    print(f\"Gene {tg} -> Reactions: {get_reactions_for_gene(tg)}\")\n",
    "    print(f\"Gene {tg} -> DBLinks: {get_dblinks_for_gene(tg)}\")"
   ]
  },
  {
   "cell_type": "code",
   "execution_count": 167,
   "id": "55582e59",
   "metadata": {},
   "outputs": [],
   "source": [
    "# Often, we might see many blank results for pathways or reactions if KEGG\n",
    "# doesn't annotate them for certain genes. DBLINKS are often well-populated."
   ]
  },
  {
   "cell_type": "code",
   "execution_count": null,
   "id": "d4d8b869",
   "metadata": {},
   "outputs": [],
   "source": [
    "# We'll convert the graph to undirected for connectivity analysis. Then we\n",
    "# compute degree centralities, top nodes, etc."
   ]
  },
  {
   "cell_type": "code",
   "execution_count": 168,
   "id": "c39fcfee",
   "metadata": {},
   "outputs": [
    {
     "name": "stdout",
     "output_type": "stream",
     "text": [
      "\n",
      "Number of connected components: 3715\n",
      "Largest 5 components: [116, 110, 96, 71, 61]\n",
      "\n",
      "Top 10 nodes by degree centrality:\n",
      " - KO:K02067 (label=KO) -> centrality=0.00108\n",
      " - KO:K14956 (label=KO) -> centrality=0.00103\n",
      " - KO:K07064 (label=KO) -> centrality=0.00089\n",
      " - KO:K00635 (label=KO) -> centrality=0.00066\n",
      " - KO:K06994 (label=KO) -> centrality=0.00056\n",
      " - KO:K18481 (label=KO) -> centrality=0.00051\n",
      " - KO:K03088 (label=KO) -> centrality=0.00047\n",
      " - KO:K07171 (label=KO) -> centrality=0.00047\n",
      " - KO:K00626 (label=KO) -> centrality=0.00042\n",
      " - KO:K00666 (label=KO) -> centrality=0.00037\n"
     ]
    }
   ],
   "source": [
    "H_undirected = G.to_undirected()\n",
    "comps = list(nx.connected_components(H_undirected))\n",
    "comp_sizes = sorted([len(c) for c in comps], reverse=True)[:5]\n",
    "print(f\"\\nNumber of connected components: {len(comps)}\")\n",
    "print(f\"Largest 5 components: {comp_sizes}\")\n",
    "\n",
    "deg_cent = nx.degree_centrality(H_undirected)\n",
    "sorted_deg = sorted(deg_cent.items(), key=lambda x:x[1], reverse=True)[:10]\n",
    "print(\"\\nTop 10 nodes by degree centrality:\")\n",
    "for node, val in sorted_deg:\n",
    "    label = G.nodes[node].get(\"label\",\"\")\n",
    "    print(f\" - {node} (label={label}) -> centrality={val:.5f}\")"
   ]
  },
  {
   "cell_type": "code",
   "execution_count": 169,
   "id": "93c771aa",
   "metadata": {},
   "outputs": [],
   "source": [
    "# We can see how many disconnected subgraphs exist and identify top nodes\n",
    "# by centrality, often KOs or ExternalDB nodes with many connections."
   ]
  },
  {
   "cell_type": "code",
   "execution_count": 170,
   "id": "d76ccdb8",
   "metadata": {},
   "outputs": [
    {
     "name": "stdout",
     "output_type": "stream",
     "text": [
      "\n",
      "Detected 3715 communities using Greedy Modularity.\n",
      " - Community 1: 116 nodes\n",
      " - Community 2: 110 nodes\n",
      " - Community 3: 96 nodes\n"
     ]
    }
   ],
   "source": [
    "try:\n",
    "    from networkx.algorithms import community\n",
    "    gr_comms = community.greedy_modularity_communities(H_undirected)\n",
    "    print(f\"\\nDetected {len(gr_comms)} communities using Greedy Modularity.\")\n",
    "    for i, c in enumerate(sorted(gr_comms, key=len, reverse=True)[:3],1):\n",
    "        print(f\" - Community {i}: {len(c)} nodes\")\n",
    "except Exception as e:\n",
    "    print(f\"[WARNING] community detection error: {e}\")"
   ]
  },
  {
   "cell_type": "code",
   "execution_count": 171,
   "id": "a0ed950e",
   "metadata": {},
   "outputs": [],
   "source": [
    "# Community detection might yield many small subgraphs or modules if data\n",
    "# is sparse. This is normal for microbial annotation in KEGG."
   ]
  },
  {
   "cell_type": "code",
   "execution_count": 172,
   "id": "218ca1d9",
   "metadata": {},
   "outputs": [],
   "source": [
    "# We'll isolate the top 5 Genes by degree and fetch the KOs they link to,\n",
    "# then visualize that subgraph with meaningful labels."
   ]
  },
  {
   "cell_type": "code",
   "execution_count": 173,
   "id": "38c228d3",
   "metadata": {},
   "outputs": [
    {
     "data": {
      "image/png": "[encoded data removed]",
      "text/plain": [
       "<Figure size 1200x1200 with 1 Axes>"
      ]
     },
     "metadata": {},
     "output_type": "display_data"
    }
   ],
   "source": [
    "def get_kos_for_gene(gid):\n",
    "    g_node = f\"Gene:{gid}\"\n",
    "    if not G.has_node(g_node):\n",
    "        return []\n",
    "    return [\n",
    "        v for (u, v, k) in G.out_edges(g_node, keys=True)\n",
    "        if G[u][v][k].get(\"label\") == \"HAS_KO\"\n",
    "    ]\n",
    "\n",
    "top_5_genes = [g for (g, deg) in top_genes[:5]]\n",
    "sub_nodes = set(top_5_genes)\n",
    "\n",
    "for g in top_5_genes:\n",
    "    g_stripped = g.replace(\"Gene:\", \"\")\n",
    "    kos = get_kos_for_gene(g_stripped)\n",
    "    sub_nodes.update(kos)\n",
    "\n",
    "subG = G.subgraph(sub_nodes).copy()\n",
    "\n",
    "pos = nx.spring_layout(subG, k=0.5, iterations=50, seed=42)\n",
    "\n",
    "gene_list = [n for n in subG.nodes() if n.startswith(\"Gene:\")]\n",
    "ko_list = [n for n in subG.nodes() if n.startswith(\"KO:\")]\n",
    "\n",
    "plt.figure(figsize=(12, 12))\n",
    "\n",
    "nx.draw_networkx_nodes(\n",
    "    subG,\n",
    "    pos,\n",
    "    nodelist=gene_list,\n",
    "    node_color=\"lightblue\",\n",
    "    node_size=800,\n",
    "    alpha=0.9,\n",
    "    label=\"Genes\"\n",
    ")\n",
    "\n",
    "nx.draw_networkx_nodes(\n",
    "    subG,\n",
    "    pos,\n",
    "    nodelist=ko_list,\n",
    "    node_color=\"lightgreen\",\n",
    "    node_size=600,\n",
    "    alpha=0.9,\n",
    "    label=\"KOs\"\n",
    ")\n",
    "\n",
    "nx.draw_networkx_edges(\n",
    "    subG,\n",
    "    pos,\n",
    "    alpha=0.5,\n",
    "    edge_color=\"gray\"\n",
    ")\n",
    "\n",
    "# Create labels: gene symbols and KO IDs\n",
    "labels = {}\n",
    "for node in subG.nodes():\n",
    "    data = subG.nodes[node]\n",
    "    if node.startswith(\"Gene:\"):\n",
    "        labels[node] = data.get(\"gene_symbol\", node)\n",
    "    elif node.startswith(\"KO:\"):\n",
    "        labels[node] = data.get(\"ko_id\", node)\n",
    "    else:\n",
    "        labels[node] = node\n",
    "\n",
    "nx.draw_networkx_labels(\n",
    "    subG,\n",
    "    pos,\n",
    "    labels=labels,\n",
    "    font_size=10,\n",
    "    font_weight=\"bold\",\n",
    "    font_color=\"black\",\n",
    "    verticalalignment=\"bottom\",\n",
    "    bbox=dict(facecolor='white', alpha=0.6, edgecolor='none', pad=1)\n",
    ")\n",
    "\n",
    "plt.title(\"Subgraph of Top 5 Genes and Their Associated KOs\", fontsize=16)\n",
    "plt.legend(scatterpoints=1, loc='upper right')\n",
    "plt.axis(\"off\")\n",
    "plt.tight_layout()\n",
    "plt.show()"
   ]
  },
  {
   "cell_type": "code",
   "execution_count": 174,
   "id": "cbbfd626",
   "metadata": {},
   "outputs": [],
   "source": [
    "# The final plot shows which KOs are heavily shared among the top 5 genes,\n",
    "# illustrating functional or orthologous group relationships in M. tuberculosis."
   ]
  },
  {
   "cell_type": "code",
   "execution_count": 176,
   "id": "e39e93b8",
   "metadata": {},
   "outputs": [],
   "source": [
    "# This step checks for data types that cannot be serialized (lists, dicts, sets, etc.)"
   ]
  },
  {
   "cell_type": "code",
   "execution_count": 177,
   "id": "2da6225d",
   "metadata": {},
   "outputs": [
    {
     "name": "stdout",
     "output_type": "stream",
     "text": [
      "Number of nodes with unsupported attributes: 0\n",
      "\n",
      "Number of edges with unsupported attributes: 0\n"
     ]
    }
   ],
   "source": [
    "def find_unsupported_node_attributes(G):\n",
    "    unsupported = {}\n",
    "    for node, data in G.nodes(data=True):\n",
    "        for key, value in data.items():\n",
    "            if isinstance(value, (list, dict, set, tuple)):\n",
    "                if node not in unsupported:\n",
    "                    unsupported[node] = {}\n",
    "                unsupported[node][key] = type(value).__name__\n",
    "    return unsupported\n",
    "\n",
    "unsupported_nodes = find_unsupported_node_attributes(G)\n",
    "print(f\"Number of nodes with unsupported attributes: {len(unsupported_nodes)}\")\n",
    "if unsupported_nodes:\n",
    "    print(\"Sample problematic node attributes:\")\n",
    "    for node, attrs in list(unsupported_nodes.items())[:5]:\n",
    "        print(f\" - {node}: {attrs}\")\n",
    "\n",
    "def find_unsupported_edge_attributes(G):\n",
    "    unsupported = {}\n",
    "    for u, v, data in G.edges(data=True):\n",
    "        for key, value in data.items():\n",
    "            if isinstance(value, (list, dict, set, tuple)):\n",
    "                edge = f\"{u} -> {v}\"\n",
    "                if edge not in unsupported:\n",
    "                    unsupported[edge] = {}\n",
    "                unsupported[edge][key] = type(value).__name__\n",
    "    return unsupported\n",
    "\n",
    "unsupported_edges = find_unsupported_edge_attributes(G)\n",
    "print(f\"\\nNumber of edges with unsupported attributes: {len(unsupported_edges)}\")\n",
    "if unsupported_edges:\n",
    "    print(\"Sample problematic edge attributes:\")\n",
    "    for edge, attrs in list(unsupported_edges.items())[:5]:\n",
    "        print(f\" - {edge}: {attrs}\")"
   ]
  },
  {
   "cell_type": "code",
   "execution_count": 178,
   "id": "88f51b61",
   "metadata": {},
   "outputs": [],
   "source": [
    "# If any node or edge attributes are complex (list, dict, set, tuple),\n",
    "# they must be converted to strings or numeric types for certain export formats."
   ]
  },
  {
   "cell_type": "code",
   "execution_count": 179,
   "id": "0471218d",
   "metadata": {},
   "outputs": [
    {
     "name": "stdout",
     "output_type": "stream",
     "text": [
      "\n",
      "Converted unsupported node attributes to strings.\n",
      "Converted unsupported edge attributes to strings.\n"
     ]
    }
   ],
   "source": [
    "def convert_node_attributes(G, unsupported_nodes):\n",
    "    for node, attrs in unsupported_nodes.items():\n",
    "        for attr, attr_type in attrs.items():\n",
    "            value = G.nodes[node][attr]\n",
    "            if isinstance(value, list):\n",
    "                G.nodes[node][attr] = \", \".join(map(str, value))\n",
    "            elif isinstance(value, dict):\n",
    "                G.nodes[node][attr] = \"; \".join([f\"{k}:{v}\" for k, v in value.items()])\n",
    "            elif isinstance(value, set):\n",
    "                G.nodes[node][attr] = \", \".join(map(str, value))\n",
    "            elif isinstance(value, tuple):\n",
    "                G.nodes[node][attr] = \", \".join(map(str, value))\n",
    "\n",
    "convert_node_attributes(G, unsupported_nodes)\n",
    "print(\"\\nConverted unsupported node attributes to strings.\")\n",
    "\n",
    "def convert_edge_attributes(G, unsupported_edges):\n",
    "    for edge, attrs in unsupported_edges.items():\n",
    "        u, v = edge.split(\" -> \")\n",
    "        for attr, attr_type in attrs.items():\n",
    "            value = G.edges[u, v][attr]\n",
    "            if isinstance(value, list):\n",
    "                G.edges[u, v][attr] = \", \".join(map(str, value))\n",
    "            elif isinstance(value, dict):\n",
    "                G.edges[u, v][attr] = \"; \".join([f\"{k}:{val}\" for k, val in value.items()])\n",
    "            elif isinstance(value, set):\n",
    "                G.edges[u, v][attr] = \", \".join(map(str, value))\n",
    "            elif isinstance(value, tuple):\n",
    "                G.edges[u, v][attr] = \", \".join(map(str, value))\n",
    "\n",
    "convert_edge_attributes(G, unsupported_edges)\n",
    "print(\"Converted unsupported edge attributes to strings.\")"
   ]
  },
  {
   "cell_type": "code",
   "execution_count": 180,
   "id": "263488da",
   "metadata": {},
   "outputs": [
    {
     "name": "stdout",
     "output_type": "stream",
     "text": [
      "\n",
      "After conversion, nodes with unsupported attributes: 0\n",
      "After conversion, edges with unsupported attributes: 0\n"
     ]
    }
   ],
   "source": [
    "# Re-check\n",
    "unsupported_nodes_after = find_unsupported_node_attributes(G)\n",
    "print(f\"\\nAfter conversion, nodes with unsupported attributes: {len(unsupported_nodes_after)}\")\n",
    "if unsupported_nodes_after:\n",
    "    print(\"Remaining problematic node attributes:\")\n",
    "    for node, attrs in list(unsupported_nodes_after.items())[:5]:\n",
    "        print(f\" - {node}: {attrs}\")\n",
    "\n",
    "unsupported_edges_after = find_unsupported_edge_attributes(G)\n",
    "print(f\"After conversion, edges with unsupported attributes: {len(unsupported_edges_after)}\")\n",
    "if unsupported_edges_after:\n",
    "    print(\"Remaining problematic edge attributes:\")\n",
    "    for edge, attrs in list(unsupported_edges_after.items())[:5]:\n",
    "        print(f\" - {edge}: {attrs}\")"
   ]
  },
  {
   "cell_type": "code",
   "execution_count": 181,
   "id": "62d2cc77",
   "metadata": {},
   "outputs": [],
   "source": [
    "# If everything is correct, the number of problematic nodes and edges should be 0."
   ]
  },
  {
   "cell_type": "code",
   "execution_count": 182,
   "id": "297d6f80",
   "metadata": {},
   "outputs": [
    {
     "name": "stdout",
     "output_type": "stream",
     "text": [
      "\n",
      "Knowledge Graph successfully exported to 'mtb_kegg_full_kg.gexf'.\n"
     ]
    }
   ],
   "source": [
    "# GEXF supports a broader range of data types than GraphML, and is widely used\n",
    "# by tools like Gephi for advanced visualization.\n",
    "\n",
    "gexf_output = \"mtb_kegg_full_kg.gexf\"\n",
    "\n",
    "try:\n",
    "    nx.write_gexf(G, gexf_output)\n",
    "    print(f\"\\nKnowledge Graph successfully exported to '{gexf_output}'.\")\n",
    "except Exception as e:\n",
    "    print(f\"\\n[ERROR] Failed to export graph to GEXF: {e}\")\n",
    "\n",
    "# The final \"mtb_kegg_full_kg.gexf\" file can be opened in Gephi or other\n",
    "# GEXF-compatible tools for advanced exploration and visualization."
   ]
  }
 ],
 "metadata": {
  "kernelspec": {
   "display_name": "Python 3",
   "language": "python",
   "name": "python3"
  },
  "language_info": {
   "codemirror_mode": {
    "name": "ipython",
    "version": 3
   },
   "file_extension": ".py",
   "mimetype": "text/x-python",
   "name": "python",
   "nbconvert_exporter": "python",
   "pygments_lexer": "ipython3",
   "version": "3.10.6"
  }
 },
 "nbformat": 4,
 "nbformat_minor": 5
}
