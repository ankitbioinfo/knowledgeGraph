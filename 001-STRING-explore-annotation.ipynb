{
 "cells": [
  {
   "cell_type": "markdown",
   "metadata": {},
   "source": [
    "# Building and Exploring the STRING Knowledge Graph\n",
    "\n",
    "This notebook shows an **end-to-end** process of downloading STRING data, unpacking it, constructing a **multi-layered knowledge graph** with NetworkX, and performing initial exploration. "
   ]
  },
  {
   "cell_type": "markdown",
   "metadata": {},
   "source": [
    "## 1. Environment Setup\n",
    "\n",
    "- We install Python packages `gdown` (for downloading files from Google Drive), `networkx` (for the graph data structure), and `biopython` (for parsing FASTA sequences, etc.).  \n",
    "- `%pip install` works inside Jupyter notebooks, while `!pip install` is a shell command.  \n",
    "- **Note**: Some dependencies might be pre-installed in certain environments."
   ]
  },
  {
   "cell_type": "code",
   "execution_count": 1,
   "metadata": {
    "scrolled": true
   },
   "outputs": [
    {
     "name": "stdout",
     "output_type": "stream",
     "text": [
      "Collecting gdown\n",
      "  Downloading gdown-5.2.0-py3-none-any.whl (18 kB)\n",
      "Requirement already satisfied: networkx in ./.environments/miniconda/envs/polly/lib/python3.10/site-packages (2.8.8)\n",
      "Collecting biopython\n",
      "  Downloading biopython-1.84-cp310-cp310-manylinux_2_17_x86_64.manylinux2014_x86_64.whl (3.2 MB)\n",
      "\u001b[2K     \u001b[90m━━━━━━━━━━━━━━━━━━━━━━━━━━━━━━━━━━━━━━━━\u001b[0m \u001b[32m3.2/3.2 MB\u001b[0m \u001b[31m22.8 MB/s\u001b[0m eta \u001b[36m0:00:00\u001b[0m00:01\u001b[0m00:01\u001b[0m\n",
      "\u001b[?25hRequirement already satisfied: requests[socks] in ./.environments/miniconda/envs/polly/lib/python3.10/site-packages (from gdown) (2.31.0)\n",
      "Requirement already satisfied: beautifulsoup4 in ./.environments/miniconda/envs/polly/lib/python3.10/site-packages (from gdown) (4.12.2)\n",
      "Requirement already satisfied: tqdm in ./.environments/miniconda/envs/polly/lib/python3.10/site-packages (from gdown) (4.65.0)\n",
      "Collecting filelock\n",
      "  Downloading filelock-3.16.1-py3-none-any.whl (16 kB)\n",
      "Requirement already satisfied: numpy in ./.environments/miniconda/envs/polly/lib/python3.10/site-packages (from biopython) (1.25.2)\n",
      "Requirement already satisfied: soupsieve>1.2 in ./.environments/miniconda/envs/polly/lib/python3.10/site-packages (from beautifulsoup4->gdown) (2.5)\n",
      "Requirement already satisfied: certifi>=2017.4.17 in ./.environments/miniconda/envs/polly/lib/python3.10/site-packages (from requests[socks]->gdown) (2023.7.22)\n",
      "Requirement already satisfied: idna<4,>=2.5 in ./.environments/miniconda/envs/polly/lib/python3.10/site-packages (from requests[socks]->gdown) (2.10)\n",
      "Requirement already satisfied: urllib3<3,>=1.21.1 in ./.environments/miniconda/envs/polly/lib/python3.10/site-packages (from requests[socks]->gdown) (1.26.16)\n",
      "Requirement already satisfied: charset-normalizer<4,>=2 in ./.environments/miniconda/envs/polly/lib/python3.10/site-packages (from requests[socks]->gdown) (3.2.0)\n",
      "Collecting PySocks!=1.5.7,>=1.5.6\n",
      "  Downloading PySocks-1.7.1-py3-none-any.whl (16 kB)\n",
      "Installing collected packages: PySocks, filelock, biopython, gdown\n",
      "Successfully installed PySocks-1.7.1 biopython-1.84 filelock-3.16.1 gdown-5.2.0\n",
      "Note: you may need to restart the kernel to use updated packages.\n"
     ]
    }
   ],
   "source": [
    "!pip install gdown networkx biopython"
   ]
  },
  {
   "cell_type": "markdown",
   "metadata": {},
   "source": [
    "## 2. Downloading and Unzipping Data\n",
    "\n",
    "- Uses `gdown` to download a ZIP file containing raw STRING data from a shared Google Drive link.  "
   ]
  },
  {
   "cell_type": "code",
   "execution_count": 3,
   "metadata": {},
   "outputs": [
    {
     "name": "stdout",
     "output_type": "stream",
     "text": [
      "Downloading...\n",
      "From (original): https://drive.google.com/uc?id=1guS4_vJ06ZRbqAYSaC3MoEQxwTS4-Ax6\n",
      "From (redirected): https://drive.google.com/uc?id=1guS4_vJ06ZRbqAYSaC3MoEQxwTS4-Ax6&confirm=t&uuid=9dd13ab0-6931-48fd-b71c-5d55b391f494\n",
      "To: /home/ec2-user/SageMaker/stringdb_raw_data.zip\n",
      "100%|██████████████████████████████████████| 1.25G/1.25G [00:20<00:00, 60.7MB/s]\n"
     ]
    }
   ],
   "source": [
    "!gdown 1guS4_vJ06ZRbqAYSaC3MoEQxwTS4-Ax6"
   ]
  },
  {
   "cell_type": "markdown",
   "metadata": {},
   "source": [
    "- Creates a folder named `stringdb_raw_data`,  \n",
    "- Extracts the downloaded ZIP into that folder,  \n",
    "- Lists the extracted files.  \n",
    "- Error handling is included for cases where the file is missing or corrupted."
   ]
  },
  {
   "cell_type": "code",
   "execution_count": 7,
   "metadata": {},
   "outputs": [
    {
     "name": "stdout",
     "output_type": "stream",
     "text": [
      "Files extracted to 'stringdb_raw_data'\n",
      "Extracted files:\n",
      "- stringdb_raw_data\n"
     ]
    }
   ],
   "source": [
    "import zipfile\n",
    "import os\n",
    "\n",
    "# Path to the zip file\n",
    "zip_file_path = \"stringdb_raw_data.zip\"\n",
    "\n",
    "# Destination folder for extraction\n",
    "destination_folder = \"stringdb_raw_data\"\n",
    "\n",
    "# Ensure the destination folder exists\n",
    "os.makedirs(destination_folder, exist_ok=True)\n",
    "\n",
    "# Unzip the file\n",
    "try:\n",
    "    with zipfile.ZipFile(zip_file_path, 'r') as zip_ref:\n",
    "        zip_ref.extractall(destination_folder)\n",
    "    print(f\"Files extracted to '{destination_folder}'\")\n",
    "    \n",
    "    # List the extracted files\n",
    "    extracted_files = os.listdir(destination_folder)\n",
    "    print(\"Extracted files:\")\n",
    "    for file in extracted_files:\n",
    "        print(f\"- {file}\")\n",
    "except FileNotFoundError:\n",
    "    print(f\"Error: The file '{zip_file_path}' was not found.\")\n",
    "except zipfile.BadZipFile:\n",
    "    print(f\"Error: The file '{zip_file_path}' is not a valid zip file.\")"
   ]
  },
  {
   "cell_type": "markdown",
   "metadata": {},
   "source": [
    "## 3. Libraries and Setup\n",
    "\n",
    "- **gzip**: to handle `.gz` compressed files.  \n",
    "- **pandas**: for tabular data manipulation (`read_csv`).  \n",
    "- **networkx**: our graph library.  \n",
    "- **Bio.SeqIO**: for parsing FASTA sequences.  \n",
    "- **io.StringIO**: helps in memory-file conversions."
   ]
  },
  {
   "cell_type": "code",
   "execution_count": 5,
   "metadata": {},
   "outputs": [],
   "source": [
    "import gzip\n",
    "import pandas as pd\n",
    "import networkx as nx\n",
    "from Bio import SeqIO\n",
    "from io import StringIO\n",
    "import os"
   ]
  },
  {
   "cell_type": "markdown",
   "metadata": {},
   "source": [
    "## 4. Data File Paths\n",
    "\n",
    "- A dictionary mapping descriptive keys to their respective file paths.  \n",
    "- Notice each file is pointed to in the extracted directory."
   ]
  },
  {
   "cell_type": "code",
   "execution_count": 6,
   "metadata": {},
   "outputs": [],
   "source": [
    "data_files = {\n",
    "    \"clusters_info\": \"stringdb_raw_data/stringdb_raw_data/83332.clusters.info.v12.0.txt.gz\",\n",
    "    \"clusters_proteins\": \"stringdb_raw_data/stringdb_raw_data/83332.clusters.proteins.v12.0.txt.gz\",\n",
    "    \"clusters_tree\": \"stringdb_raw_data/stringdb_raw_data/83332.clusters.tree.v12.0.txt.gz\",\n",
    "    \"protein_aliases\": \"stringdb_raw_data/stringdb_raw_data/83332.protein.aliases.v12.0.txt.gz\",\n",
    "    \"protein_enrichment_terms\": \"stringdb_raw_data/stringdb_raw_data/83332.protein.enrichment.terms.v12.0.txt.gz\",\n",
    "    \"protein_homology\": \"stringdb_raw_data/stringdb_raw_data/83332.protein.homology.v12.0.txt.gz\",\n",
    "    \"protein_info\": \"stringdb_raw_data/stringdb_raw_data/83332.protein.info.v12.0.txt.gz\",\n",
    "    \"protein_links_detailed\": \"stringdb_raw_data/stringdb_raw_data/83332.protein.links.detailed.v12.0.txt.gz\",\n",
    "    \"protein_links_full\": \"stringdb_raw_data/stringdb_raw_data/83332.protein.links.full.v12.0.txt.gz\",\n",
    "    \"protein_links\": \"stringdb_raw_data/stringdb_raw_data/83332.protein.links.v12.0.txt.gz\",\n",
    "    \"protein_orthology\": \"stringdb_raw_data/stringdb_raw_data/83332.protein.orthology.v12.0.txt.gz\",\n",
    "    \"protein_physical_links_detailed\": \"stringdb_raw_data/stringdb_raw_data/83332.protein.physical.links.detailed.v12.0.txt.gz\",\n",
    "    \"protein_physical_links_full\": \"stringdb_raw_data/stringdb_raw_data/83332.protein.physical.links.full.v12.0.txt.gz\",\n",
    "    \"protein_physical_links\": \"stringdb_raw_data/stringdb_raw_data/83332.protein.physical.links.v12.0.txt.gz\",\n",
    "    \"protein_sequences\": \"stringdb_raw_data/stringdb_raw_data/83332.protein.sequences.v12.0.fa.gz\",\n",
    "    \"COG_links_detailed\": \"stringdb_raw_data/stringdb_raw_data/COG.links.detailed.v12.0.txt.gz\",\n",
    "    \"COG_links\": \"stringdb_raw_data/stringdb_raw_data/COG.links.v12.0.txt.gz\",\n",
    "    \"COG_mappings\": \"stringdb_raw_data/stringdb_raw_data/COG.mappings.v12.0.txt.gz\",\n",
    "    \"species_tree\": \"stringdb_raw_data/stringdb_raw_data/species.tree.v12.0.txt\",\n",
    "    \"species\": \"stringdb_raw_data/stringdb_raw_data/species.v12.0.txt\"\n",
    "}"
   ]
  },
  {
   "cell_type": "markdown",
   "metadata": {},
   "source": [
    "## 5. Graph Initialization\n",
    "\n",
    "- We use a **MultiDiGraph** because we expect multiple edge types (e.g., detailed vs. full, physical vs. functional) between the same nodes, and directed edges (for species or cluster hierarchy)."
   ]
  },
  {
   "cell_type": "code",
   "execution_count": 7,
   "metadata": {},
   "outputs": [],
   "source": [
    "# Create an empty MultiDiGraph\n",
    "G = nx.MultiDiGraph()"
   ]
  },
  {
   "cell_type": "markdown",
   "metadata": {},
   "source": [
    "## 6. Reading the Data\n",
    "\n",
    "- Loads each TSV / space-delimited file into a Pandas DataFrame.  \n",
    "- Note how we specify `sep=\"\\t\"` for tab-separated and `sep=\" \"` for space-delimited files."
   ]
  },
  {
   "cell_type": "code",
   "execution_count": 8,
   "metadata": {},
   "outputs": [],
   "source": [
    "### Load Data ###\n",
    "\n",
    "# Clusters info\n",
    "clusters_info = pd.read_csv(data_files[\"clusters_info\"], sep=\"\\t\")\n",
    "# Clusters proteins\n",
    "clusters_proteins = pd.read_csv(data_files[\"clusters_proteins\"], sep=\"\\t\")\n",
    "# Clusters tree\n",
    "clusters_tree = pd.read_csv(data_files[\"clusters_tree\"], sep=\"\\t\")\n",
    "\n",
    "# Protein aliases\n",
    "protein_aliases = pd.read_csv(data_files[\"protein_aliases\"], sep=\"\\t\")\n",
    "# Protein enrichment\n",
    "protein_enrichment_terms = pd.read_csv(data_files[\"protein_enrichment_terms\"], sep=\"\\t\")\n",
    "# Protein homology\n",
    "protein_homology = pd.read_csv(data_files[\"protein_homology\"], sep=\"\\t\")\n",
    "# Protein info\n",
    "protein_info = pd.read_csv(data_files[\"protein_info\"], sep=\"\\t\")\n",
    "# Protein links (interaction)\n",
    "protein_links = pd.read_csv(data_files[\"protein_links\"], sep=\" \")\n",
    "protein_links_detailed = pd.read_csv(data_files[\"protein_links_detailed\"], sep=\" \")\n",
    "protein_links_full = pd.read_csv(data_files[\"protein_links_full\"], sep=\" \")\n",
    "# Protein orthology\n",
    "protein_orthology = pd.read_csv(data_files[\"protein_orthology\"], sep=\"\\t\")\n",
    "\n",
    "# Protein physical links\n",
    "protein_physical_links = pd.read_csv(data_files[\"protein_physical_links\"], sep=\" \")\n",
    "protein_physical_links_detailed = pd.read_csv(data_files[\"protein_physical_links_detailed\"], sep=\" \")\n",
    "protein_physical_links_full = pd.read_csv(data_files[\"protein_physical_links_full\"], sep=\" \")\n",
    "\n",
    "# COG mappings\n",
    "COG_mappings = pd.read_csv(data_files[\"COG_mappings\"], sep=\"\\t\")\n",
    "\n",
    "# Species and tree\n",
    "species = pd.read_csv(data_files[\"species\"], sep=\"\\t\")\n",
    "species_tree = pd.read_csv(data_files[\"species_tree\"], sep=\"\\t\")"
   ]
  },
  {
   "cell_type": "markdown",
   "metadata": {},
   "source": [
    "- Separate reading for COG links, also space-delimited."
   ]
  },
  {
   "cell_type": "code",
   "execution_count": 9,
   "metadata": {},
   "outputs": [],
   "source": [
    "# COG links\n",
    "COG_links = pd.read_csv(data_files[\"COG_links\"], sep=\" \")\n",
    "COG_links_detailed = pd.read_csv(data_files[\"COG_links_detailed\"], sep=\" \")"
   ]
  },
  {
   "cell_type": "markdown",
   "metadata": {},
   "source": [
    "## 7. Constructing the Knowledge Graph\n",
    "\n",
    "### 7.1 Species Nodes and Hierarchy\n",
    "\n",
    "- Creates a node for each species, labeled `\"Species\"`.  \n",
    "- Node ID is `\"Species:<taxon_id>\"`. \n",
    "- Adds edges of type `\"CHILD_OF\"` to represent the parent-child relationships in the species tree.  "
   ]
  },
  {
   "cell_type": "code",
   "execution_count": 10,
   "metadata": {},
   "outputs": [],
   "source": [
    "### Add Species Nodes ###\n",
    "for _, row in species.iterrows():\n",
    "    sid = row[\"#taxon_id\"]\n",
    "    G.add_node(f\"Species:{sid}\", \n",
    "                label=\"Species\",\n",
    "                taxon_id=sid,\n",
    "                string_type=row[\"STRING_type\"],\n",
    "                string_name_compact=row[\"STRING_name_compact\"],\n",
    "                official_name_NCBI=row[\"official_name_NCBI\"],\n",
    "                domain=row[\"domain\"])"
   ]
  },
  {
   "cell_type": "code",
   "execution_count": 11,
   "metadata": {},
   "outputs": [],
   "source": [
    "### Add Species Hierarchy Edges ###\n",
    "for _, row in species_tree.iterrows():\n",
    "    child = row[\"#taxon_id\"]\n",
    "    parent = row[\"parent_taxon_id\"]\n",
    "    if child != parent:  # Avoid root loops\n",
    "        G.add_edge(f\"Species:{child}\", f\"Species:{parent}\", \n",
    "                    label=\"CHILD_OF\", \n",
    "                    taxon_name=row.get(\"taxon_name\", None),\n",
    "                    is_STRING_species=row.get(\"is_STRING_species\", None))"
   ]
  },
  {
   "cell_type": "markdown",
   "metadata": {},
   "source": [
    "### 7.2 Protein Nodes, Sequences, and Species Link"
   ]
  },
  {
   "cell_type": "markdown",
   "metadata": {},
   "source": [
    "- Creates a node for each protein with relevant metadata.  \n",
    "- Adds an edge from the protein node to the species node, labeled `\"FROM_SPECIES\"`. "
   ]
  },
  {
   "cell_type": "code",
   "execution_count": 12,
   "metadata": {},
   "outputs": [],
   "source": [
    "### Add Protein Nodes ###\n",
    "# We can link each protein to its species from the prefix of #string_protein_id\n",
    "for _, p in protein_info.iterrows():\n",
    "    pid = p[\"#string_protein_id\"]\n",
    "    # Extract species from id - format is something like 83332.Rv0001\n",
    "    species_id = pid.split(\".\")[0]\n",
    "\n",
    "    G.add_node(pid, \n",
    "                label=\"Protein\",\n",
    "                preferred_name=p[\"preferred_name\"],\n",
    "                protein_size=p[\"protein_size\"],\n",
    "                annotation=p[\"annotation\"])\n",
    "    # Link protein to species\n",
    "    G.add_edge(pid, f\"Species:{species_id}\", label=\"FROM_SPECIES\")"
   ]
  },
  {
   "cell_type": "markdown",
   "metadata": {},
   "source": [
    "- Parses the FASTA file (gzipped).  \n",
    "- If the protein is already in our graph, we store the full sequence as a node attribute."
   ]
  },
  {
   "cell_type": "code",
   "execution_count": 13,
   "metadata": {},
   "outputs": [],
   "source": [
    "### Add protein sequences ###\n",
    "# Parse FASTA\n",
    "with gzip.open(data_files[\"protein_sequences\"], \"rt\") as handle:\n",
    "    for record in SeqIO.parse(handle, \"fasta\"):\n",
    "        protein_id = record.id\n",
    "        if protein_id in G.nodes:\n",
    "            G.nodes[protein_id][\"sequence\"] = str(record.seq)"
   ]
  },
  {
   "cell_type": "markdown",
   "metadata": {},
   "source": [
    "### 7.3 Clusters: Info, Hierarchy, and Membership"
   ]
  },
  {
   "cell_type": "markdown",
   "metadata": {},
   "source": [
    "- Clusters are nodes with label `\"Cluster\"`.  \n",
    "- Also link them to the species with an edge labeled `\"CLUSTER_IN_SPECIES\"`."
   ]
  },
  {
   "cell_type": "code",
   "execution_count": 14,
   "metadata": {},
   "outputs": [],
   "source": [
    "### Add Clusters as Nodes ###\n",
    "for _, c in clusters_info.iterrows():\n",
    "    cid = c[\"cluster_id\"]\n",
    "    G.add_node(cid, \n",
    "                label=\"Cluster\",\n",
    "                cluster_size=c[\"cluster_size\"],\n",
    "                best_described_by=c[\"best_described_by\"])\n",
    "    # Link cluster to species (all from same species_id?)\n",
    "    # Since cluster file already has #string_taxon_id and presumably all proteins are from the same species,\n",
    "    # we can link cluster to species as well:\n",
    "    species_id = c[\"#string_taxon_id\"]\n",
    "    G.add_edge(cid, f\"Species:{species_id}\", label=\"CLUSTER_IN_SPECIES\")"
   ]
  },
  {
   "cell_type": "markdown",
   "metadata": {},
   "source": [
    "- Connects child cluster to parent cluster with label `\"PARENT_OF\"`.  "
   ]
  },
  {
   "cell_type": "code",
   "execution_count": 15,
   "metadata": {},
   "outputs": [],
   "source": [
    "### Add Cluster Hierarchy Edges ###\n",
    "for _, row in clusters_tree.iterrows():\n",
    "    child = row[\"child_cluster_id\"]\n",
    "    parent = row[\"parent_cluster_id\"]\n",
    "    G.add_edge(child, parent, label=\"PARENT_OF\")"
   ]
  },
  {
   "cell_type": "markdown",
   "metadata": {},
   "source": [
    "- Links each protein to the cluster(s) it belongs to with an edge labeled `\"IN_CLUSTER\"`."
   ]
  },
  {
   "cell_type": "code",
   "execution_count": 16,
   "metadata": {},
   "outputs": [],
   "source": [
    "### Add Cluster Membership Edges ###\n",
    "for _, row in clusters_proteins.iterrows():\n",
    "    cid = row[\"cluster_id\"]\n",
    "    pid = row[\"protein_id\"]\n",
    "    if G.has_node(cid) and G.has_node(pid):\n",
    "        G.add_edge(pid, cid, label=\"IN_CLUSTER\")"
   ]
  },
  {
   "cell_type": "markdown",
   "metadata": {},
   "source": [
    "- Each alias is a separate node labeled `\"Alias\"`.  \n",
    "- Creates edges `\"HAS_ALIAS\"` from the protein to that alias node."
   ]
  },
  {
   "cell_type": "code",
   "execution_count": 17,
   "metadata": {},
   "outputs": [],
   "source": [
    "### Add Protein Aliases ###\n",
    "# We can store aliases as attributes or as separate nodes. Let's store as separate \"Alias\" nodes.\n",
    "for _, row in protein_aliases.iterrows():\n",
    "    pid = row[\"#string_protein_id\"]\n",
    "    alias = row[\"alias\"]\n",
    "    alias_node = f\"Alias:{pid}:{alias}\"\n",
    "    G.add_node(alias_node, label=\"Alias\", source=row[\"source\"], name=alias)\n",
    "    if G.has_node(pid):\n",
    "        G.add_edge(pid, alias_node, label=\"HAS_ALIAS\")"
   ]
  },
  {
   "cell_type": "markdown",
   "metadata": {},
   "source": [
    "- Each term is a separate node labeled `\"Term\"`.  \n",
    "- The protein -> term edge is labeled `\"HAS_TERM\"`. "
   ]
  },
  {
   "cell_type": "code",
   "execution_count": 18,
   "metadata": {},
   "outputs": [],
   "source": [
    "### Add Protein Enrichment Terms ###\n",
    "# Similar approach: terms as separate nodes\n",
    "for _, row in protein_enrichment_terms.iterrows():\n",
    "    pid = row[\"#string_protein_id\"]\n",
    "    term = row[\"term\"]\n",
    "    cat = row[\"category\"]\n",
    "    term_node = f\"Term:{cat}:{term}\"\n",
    "    # Add term node if not present\n",
    "    if not G.has_node(term_node):\n",
    "        G.add_node(term_node, label=\"Term\", category=cat, description=row[\"description\"])\n",
    "    if G.has_node(pid):\n",
    "        G.add_edge(pid, term_node, label=\"HAS_TERM\")"
   ]
  },
  {
   "cell_type": "markdown",
   "metadata": {},
   "source": [
    "- Connect pairs of proteins with `\"HOMOLOG_OF\"`, storing bitscore and alignment ranges as edge attributes."
   ]
  },
  {
   "cell_type": "code",
   "execution_count": 19,
   "metadata": {},
   "outputs": [],
   "source": [
    "### Add Protein Homology Edges ###\n",
    "# Homology edges between proteins\n",
    "for _, row in protein_homology.iterrows():\n",
    "    p1 = row[\"#string_protein_1\"]\n",
    "    p2 = row[\"string_protein_id_2\"]\n",
    "    if G.has_node(p1) and G.has_node(p2):\n",
    "        G.add_edge(p1, p2, label=\"HOMOLOG_OF\",\n",
    "                    bitscore=row[\"bitscore\"],\n",
    "                    start_1=row[\"start_1\"],\n",
    "                    end_1=row[\"end_1\"],\n",
    "                    start_2=row[\"start_2\"],\n",
    "                    end_2=row[\"end_2\"])"
   ]
  },
  {
   "cell_type": "markdown",
   "metadata": {},
   "source": [
    "### 7.5 Orthology Groups"
   ]
  },
  {
   "cell_type": "markdown",
   "metadata": {},
   "source": [
    "- For each protein, create or reuse an orthologous group node (label: `\"OrthologousGroup\"`) and link via `\"BELONGS_TO_OG\"`."
   ]
  },
  {
   "cell_type": "code",
   "execution_count": 20,
   "metadata": {},
   "outputs": [],
   "source": [
    "### Add Protein Orthology ###\n",
    "for _, row in protein_orthology.iterrows():\n",
    "    prot = row[\"#protein\"]\n",
    "    og = row[\"orthologous_group_or_ortholog\"]\n",
    "    og_node = f\"OG:{og}\"\n",
    "    if not G.has_node(og_node):\n",
    "        G.add_node(og_node, label=\"OrthologousGroup\", taxonomy_level=row[\"taxonomy_level\"])\n",
    "    if G.has_node(prot):\n",
    "        G.add_edge(prot, og_node, label=\"BELONGS_TO_OG\")"
   ]
  },
  {
   "cell_type": "markdown",
   "metadata": {},
   "source": [
    "### 7.6 Protein-Protein Interactions"
   ]
  },
  {
   "cell_type": "markdown",
   "metadata": {},
   "source": [
    "- Basic interaction data with a `\"STRING_INTERACTION\"` edge."
   ]
  },
  {
   "cell_type": "code",
   "execution_count": 21,
   "metadata": {},
   "outputs": [],
   "source": [
    "### Add Protein-Protein Interaction Edges ###\n",
    "# From protein.links\n",
    "for _, row in protein_links.iterrows():\n",
    "    p1 = row[\"protein1\"]\n",
    "    p2 = row[\"protein2\"]\n",
    "    if G.has_node(p1) and G.has_node(p2):\n",
    "        G.add_edge(p1, p2, label=\"STRING_INTERACTION\", combined_score=row[\"combined_score\"])"
   ]
  },
  {
   "cell_type": "markdown",
   "metadata": {},
   "source": [
    "- Adds **detailed** channel scores (e.g. coexpression, text mining)."
   ]
  },
  {
   "cell_type": "code",
   "execution_count": 22,
   "metadata": {},
   "outputs": [],
   "source": [
    "# Add more detail from protein.links.detailed\n",
    "for _, row in protein_links_detailed.iterrows():\n",
    "    p1 = row[\"protein1\"]\n",
    "    p2 = row[\"protein2\"]\n",
    "    if G.has_node(p1) and G.has_node(p2):\n",
    "        # Add or update edge data\n",
    "        G.add_edge(p1, p2, label=\"STRING_INTERACTION_DETAILED\",\n",
    "                    neighborhood=row[\"neighborhood\"],\n",
    "                    fusion=row[\"fusion\"],\n",
    "                    cooccurence=row[\"cooccurence\"],\n",
    "                    coexpression=row[\"coexpression\"],\n",
    "                    experimental=row[\"experimental\"],\n",
    "                    database=row[\"database\"],\n",
    "                    textmining=row[\"textmining\"],\n",
    "                    combined_score=row[\"combined_score\"])"
   ]
  },
  {
   "cell_type": "markdown",
   "metadata": {},
   "source": [
    "- Adds **transferred** evidence channels to the same pair of proteins."
   ]
  },
  {
   "cell_type": "code",
   "execution_count": 23,
   "metadata": {},
   "outputs": [],
   "source": [
    "# protein.links.full\n",
    "for _, row in protein_links_full.iterrows():\n",
    "    p1 = row[\"protein1\"]\n",
    "    p2 = row[\"protein2\"]\n",
    "    if G.has_node(p1) and G.has_node(p2):\n",
    "        G.add_edge(p1, p2, label=\"STRING_INTERACTION_FULL\",\n",
    "                    neighborhood_transferred=row[\"neighborhood_transferred\"],\n",
    "                    coexpression_transferred=row[\"coexpression_transferred\"],\n",
    "                    experiments_transferred=row[\"experiments_transferred\"],\n",
    "                    database_transferred=row[\"database_transferred\"],\n",
    "                    textmining_transferred=row[\"textmining_transferred\"],\n",
    "                    combined_score=row[\"combined_score\"])"
   ]
  },
  {
   "cell_type": "markdown",
   "metadata": {},
   "source": [
    "### 7.7 Protein Physical Interactions"
   ]
  },
  {
   "cell_type": "markdown",
   "metadata": {},
   "source": [
    "- Similar approach, but specifically for physical (rather than functional) interactions."
   ]
  },
  {
   "cell_type": "code",
   "execution_count": 24,
   "metadata": {},
   "outputs": [],
   "source": [
    "### Protein Physical Interactions ###\n",
    "for _, row in protein_physical_links.iterrows():\n",
    "    p1 = row[\"protein1\"]\n",
    "    p2 = row[\"protein2\"]\n",
    "    if G.has_node(p1) and G.has_node(p2):\n",
    "        G.add_edge(p1, p2, label=\"PHYSICAL_INTERACTION\",\n",
    "                    combined_score=row[\"combined_score\"])"
   ]
  },
  {
   "cell_type": "markdown",
   "metadata": {},
   "source": [
    "- Detailed physical interactions with sub-scores."
   ]
  },
  {
   "cell_type": "code",
   "execution_count": 25,
   "metadata": {},
   "outputs": [],
   "source": [
    "for _, row in protein_physical_links_detailed.iterrows():\n",
    "    p1 = row[\"protein1\"]\n",
    "    p2 = row[\"protein2\"]\n",
    "    if G.has_node(p1) and G.has_node(p2):\n",
    "        G.add_edge(p1, p2, label=\"PHYSICAL_INTERACTION_DETAILED\",\n",
    "                    experimental=row[\"experimental\"],\n",
    "                    database=row[\"database\"],\n",
    "                    textmining=row[\"textmining\"],\n",
    "                    combined_score=row[\"combined_score\"])"
   ]
  },
  {
   "cell_type": "markdown",
   "metadata": {},
   "source": [
    "- Full data for physical interactions (transferred evidence channels)."
   ]
  },
  {
   "cell_type": "code",
   "execution_count": 26,
   "metadata": {},
   "outputs": [],
   "source": [
    "for _, row in protein_physical_links_full.iterrows():\n",
    "    p1 = row[\"protein1\"]\n",
    "    p2 = row[\"protein2\"]\n",
    "    if G.has_node(p1) and G.has_node(p2):\n",
    "        G.add_edge(p1, p2, label=\"PHYSICAL_INTERACTION_FULL\",\n",
    "                    experiments_transferred=row[\"experiments_transferred\"],\n",
    "                    database_transferred=row[\"database_transferred\"],\n",
    "                    textmining_transferred=row[\"textmining_transferred\"],\n",
    "                    combined_score=row[\"combined_score\"])"
   ]
  },
  {
   "cell_type": "markdown",
   "metadata": {},
   "source": [
    "### 7.8 COG Links and Mappings"
   ]
  },
  {
   "cell_type": "markdown",
   "metadata": {},
   "source": [
    "- Ensures **all** COG IDs appear as nodes."
   ]
  },
  {
   "cell_type": "code",
   "execution_count": 27,
   "metadata": {},
   "outputs": [],
   "source": [
    "### COG Links and Mappings ###\n",
    "# Add Orthologous groups as nodes (some may be COG specifically)\n",
    "for og in set(COG_mappings[\"orthologous_group\"]):\n",
    "    node_id = f\"OG:{og}\"\n",
    "    if not G.has_node(node_id):\n",
    "        G.add_node(node_id, label=\"OrthologousGroup\")"
   ]
  },
  {
   "cell_type": "markdown",
   "metadata": {},
   "source": [
    "- Connect each protein to its COG with `\"BELONGS_TO_OG\"`, storing additional metadata."
   ]
  },
  {
   "cell_type": "code",
   "execution_count": 28,
   "metadata": {},
   "outputs": [],
   "source": [
    "# Add protein -> COG edges\n",
    "for _, row in COG_mappings.iterrows():\n",
    "    protein_id = row[\"#protein\"]\n",
    "    og = row[\"orthologous_group\"]\n",
    "    og_node = f\"OG:{og}\"\n",
    "    if G.has_node(protein_id) and G.has_node(og_node):\n",
    "        G.add_edge(protein_id, og_node, label=\"BELONGS_TO_OG\",\n",
    "                    start_position=row[\"start_position\"],\n",
    "                    end_position=row[\"end_position\"],\n",
    "                    protein_annotation=row[\"protein_annotation\"])"
   ]
  },
  {
   "cell_type": "code",
   "execution_count": 29,
   "metadata": {},
   "outputs": [],
   "source": [
    "# Add COG-COG relations (from COG.links and COG.links.detailed)\n",
    "for _, row in COG_links.iterrows():\n",
    "    g1 = f\"OG:{row['group1']}\"\n",
    "    g2 = f\"OG:{row['group2']}\"\n",
    "    if G.has_node(g1) and G.has_node(g2):\n",
    "        G.add_edge(g1, g2, label=\"COG_RELATION\", association_score=row[\"association_score\"])"
   ]
  },
  {
   "cell_type": "markdown",
   "metadata": {},
   "source": [
    "- Creates edges between COGs for association scores, both basic and detailed."
   ]
  },
  {
   "cell_type": "code",
   "execution_count": 31,
   "metadata": {},
   "outputs": [],
   "source": [
    "for _, row in COG_links_detailed.iterrows():\n",
    "    g1 = f\"OG:{row['group1']}\"\n",
    "    g2 = f\"OG:{row['group2']}\"\n",
    "    if G.has_node(g1) and G.has_node(g2):\n",
    "        G.add_edge(g1, g2, label=\"COG_RELATION_DETAILED\",\n",
    "                    neighborhood=row[\"neighborhood\"],\n",
    "                    fusion=row[\"fusion\"],\n",
    "                    cooccurence=row[\"cooccurence\"],\n",
    "                    coexpression=row[\"coexpression\"],\n",
    "                    experimental=row[\"experimental\"],\n",
    "                    database=row[\"database\"],\n",
    "                    textmining=row[\"textmining\"],\n",
    "                    combined_score=row[\"combined_score\"])"
   ]
  },
  {
   "cell_type": "markdown",
   "metadata": {},
   "source": [
    "## 8. Basic Graph Statistics"
   ]
  },
  {
   "cell_type": "markdown",
   "metadata": {},
   "source": [
    "- Displays the total count of nodes and edges in the graph."
   ]
  },
  {
   "cell_type": "code",
   "execution_count": 32,
   "metadata": {},
   "outputs": [
    {
     "name": "stdout",
     "output_type": "stream",
     "text": [
      "Number of nodes: 2934568\n",
      "Number of edges: 86046962\n"
     ]
    }
   ],
   "source": [
    "print(\"Number of nodes:\", G.number_of_nodes())\n",
    "print(\"Number of edges:\", G.number_of_edges())"
   ]
  },
  {
   "cell_type": "markdown",
   "metadata": {},
   "source": [
    "### 8.1 Node Label Distribution"
   ]
  },
  {
   "cell_type": "markdown",
   "metadata": {},
   "source": [
    "- Provides a breakdown of node labels (e.g., `Protein`, `Cluster`, `Species`, etc.) and edge labels.  \n",
    "- A good way to verify data ingestion."
   ]
  },
  {
   "cell_type": "code",
   "execution_count": 33,
   "metadata": {},
   "outputs": [],
   "source": [
    "from collections import Counter"
   ]
  },
  {
   "cell_type": "code",
   "execution_count": 34,
   "metadata": {},
   "outputs": [
    {
     "name": "stdout",
     "output_type": "stream",
     "text": [
      "Node label distribution: Counter({'Unknown': 2199643, 'OrthologousGroup': 614554, 'Alias': 91922, 'Species': 12535, 'Term': 10887, 'Protein': 4026, 'Cluster': 1001})\n",
      "Edge label distribution: Counter({'COG_RELATION': 39471870, 'COG_RELATION_DETAILED': 39471870, 'CHILD_OF': 2212177, 'STRING_INTERACTION': 1386026, 'STRING_INTERACTION_DETAILED': 1386026, 'STRING_INTERACTION_FULL': 1386026, 'HAS_TERM': 167062, 'IN_CLUSTER': 149955, 'HAS_ALIAS': 119264, 'PHYSICAL_INTERACTION': 74934, 'PHYSICAL_INTERACTION_DETAILED': 74934, 'PHYSICAL_INTERACTION_FULL': 74934, 'BELONGS_TO_OG': 39973, 'HOMOLOG_OF': 25884, 'FROM_SPECIES': 4026, 'CLUSTER_IN_SPECIES': 1001, 'PARENT_OF': 1000})\n"
     ]
    }
   ],
   "source": [
    "# Let's examine node labels\n",
    "node_labels = [G.nodes[n].get('label', 'Unknown') for n in G.nodes()]\n",
    "node_label_counts = Counter(node_labels)\n",
    "print(\"Node label distribution:\", node_label_counts)\n",
    "\n",
    "# Examine edge labels\n",
    "edge_labels = [G[u][v][k].get('label', 'Unknown') for u,v,k in G.edges(keys=True)]\n",
    "edge_label_counts = Counter(edge_labels)\n",
    "print(\"Edge label distribution:\", edge_label_counts)"
   ]
  },
  {
   "cell_type": "code",
   "execution_count": 35,
   "metadata": {},
   "outputs": [
    {
     "name": "stdout",
     "output_type": "stream",
     "text": [
      "Node label distribution: Counter({'Unknown': 2199643, 'OrthologousGroup': 614554, 'Alias': 91922, 'Species': 12535, 'Term': 10887, 'Protein': 4026, 'Cluster': 1001})\n",
      "Edge label distribution: Counter({'COG_RELATION': 39471870, 'COG_RELATION_DETAILED': 39471870, 'CHILD_OF': 2212177, 'STRING_INTERACTION': 1386026, 'STRING_INTERACTION_DETAILED': 1386026, 'STRING_INTERACTION_FULL': 1386026, 'HAS_TERM': 167062, 'IN_CLUSTER': 149955, 'HAS_ALIAS': 119264, 'PHYSICAL_INTERACTION': 74934, 'PHYSICAL_INTERACTION_DETAILED': 74934, 'PHYSICAL_INTERACTION_FULL': 74934, 'BELONGS_TO_OG': 39973, 'HOMOLOG_OF': 25884, 'FROM_SPECIES': 4026, 'CLUSTER_IN_SPECIES': 1001, 'PARENT_OF': 1000})\n"
     ]
    }
   ],
   "source": [
    "# Let's examine node labels\n",
    "node_labels = [G.nodes[n].get('label', 'Unknown') for n in G.nodes()]\n",
    "node_label_counts = Counter(node_labels)\n",
    "print(\"Node label distribution:\", node_label_counts)\n",
    "\n",
    "# Examine edge labels\n",
    "edge_labels = [G[u][v][k].get('label', 'Unknown') for u,v,k in G.edges(keys=True)]\n",
    "edge_label_counts = Counter(edge_labels)\n",
    "print(\"Edge label distribution:\", edge_label_counts)"
   ]
  },
  {
   "cell_type": "markdown",
   "metadata": {},
   "source": [
    "## 9. Example Protein Queries\n",
    "\n",
    "Below are some examples of how you can **query and explore** the resulting graph.\n",
    "\n",
    "### 9.1 Checking for Specific Proteins"
   ]
  },
  {
   "cell_type": "markdown",
   "metadata": {},
   "source": [
    "- Checks if a particular protein is in the graph and prints its attributes."
   ]
  },
  {
   "cell_type": "markdown",
   "metadata": {},
   "source": [
    "- Lists the first 20 neighbors of that protein and prints their labels (e.g., `Species`, `Cluster`)."
   ]
  },
  {
   "cell_type": "code",
   "execution_count": 36,
   "metadata": {
    "scrolled": true
   },
   "outputs": [
    {
     "name": "stdout",
     "output_type": "stream",
     "text": [
      "Protein found!\n",
      "Protein attributes: {'label': 'Protein', 'preferred_name': 'dnaA', 'protein_size': 507, 'annotation': \"Chromosomal replication initiator protein DnaA; Plays an important role in the initiation and regulation of chromosomal replication. Binds to the origin of replication; it binds specifically double-stranded DNA at a 9 bp consensus (dnaA box): 5'- TTATC[CA]A[CA]A-3'. DnaA binds to ATP and to acidic phospholipids (By similarity). Binds its own promoter.\", 'sequence': 'MTDDPGSGFTTVWNAVVSELNGDPKVDDGPSSDANLSAPLTPQQRAWLNLVQPLTIVEGFALLSVPSSFVQNEIERHLRAPITDALSRRLGHQIQLGVRIAPPATDEADDTTVPPSENPATTSPDTTTDNDEIDDSAAARGDNQHSWPSYFTERPHNTDSATAGVTSLNRRYTFDTFVIGASNRFAHAAALAIAEAPARAYNPLFIWGESGLGKTHLLHAAGNYAQRLFPGMRVKYVSTEEFTNDFINSLRDDRKVAFKRSYRDVDVLLVDDIQFIEGKEGIQEEFFHTFNTLHNANKQIVISSDRPPKQLATLEDRLRTRFEWGLITDVQPPELETRIAILRKKAQMERLAVPDDVLELIASSIERNIRELEGALIRVTAFASLNKTPIDKALAEIVLRDLIADANTMQISAATIMAATAEYFDTTVEELRGPGKTRALAQSRQIAMYLCRELTDLSLPKIGQAFGRDHTTVMYAQRKILSEMAERREVFDHVKELTTRIRQRSKR'}\n"
     ]
    }
   ],
   "source": [
    "# DnaA\n",
    "protein_id = \"83332.Rv0001\"\n",
    "if protein_id in G.nodes:\n",
    "    print(\"Protein found!\")\n",
    "    print(\"Protein attributes:\", G.nodes[protein_id])\n",
    "else:\n",
    "    print(\"Protein not found.\")"
   ]
  },
  {
   "cell_type": "code",
   "execution_count": 37,
   "metadata": {},
   "outputs": [
    {
     "name": "stdout",
     "output_type": "stream",
     "text": [
      "Neighbors of 83332.Rv0001:\n",
      " -  Species:83332 Species\n",
      " -  CL:26 Cluster\n",
      " -  CL:23 Cluster\n",
      " -  CL:21 Cluster\n",
      " -  CL:16 Cluster\n",
      " -  CL:12 Cluster\n",
      " -  CL:10 Cluster\n",
      " -  CL:5 Cluster\n",
      " -  CL:0 Cluster\n",
      " -  CL:28 Cluster\n",
      " -  CL:30 Cluster\n",
      " -  CL:31 Cluster\n",
      " -  CL:32 Cluster\n",
      " -  CL:33 Cluster\n",
      " -  CL:34 Cluster\n",
      " -  CL:35 Cluster\n",
      " -  CL:36 Cluster\n",
      " -  CL:37 Cluster\n",
      " -  CL:38 Cluster\n",
      " -  CL:39 Cluster\n"
     ]
    }
   ],
   "source": [
    "# Neighbors of a protein\n",
    "neighbors = list(G.neighbors(protein_id))\n",
    "print(f\"Neighbors of {protein_id}:\")\n",
    "for nbr in neighbors[:20]:\n",
    "    print(\" - \", nbr, G.nodes[nbr].get('label'))"
   ]
  },
  {
   "cell_type": "code",
   "execution_count": 43,
   "metadata": {},
   "outputs": [
    {
     "name": "stdout",
     "output_type": "stream",
     "text": [
      "Protein found!\n",
      "Protein attributes: {'label': 'Protein', 'preferred_name': 'esxA', 'protein_size': 95, 'annotation': \"6 kDa early secretory antigenic target EsxA (ESAT-6); A secreted protein that plays a number of roles in modulating the host's immune response to infection as well as being responsible for bacterial escape into the host cytoplasm. Acts as a strong host (human) T-cell antigen. Inhibits IL- 12 p40 (IL12B) and TNF-alpha expression by infected host (mouse) macrophages, reduces the nitric oxide response by about 75%. In mice previously exposed to the bacterium, elicits high level of IFN-gamma production by T-cells upon subsequent challenge by M.tuberculosis, in the first phase of a protecti [...] \", 'sequence': 'MTEQQWNFAGIEAAASAIQGNVTSIHSLLDEGKQSLTKLAAAWGGSGSEAYQGVQQKWDATATELNNALQNLARTISEAGQAMASTEGNVTGMFA'}\n"
     ]
    }
   ],
   "source": [
    "# ESAT-6 (Early Secreted Antigenic Target 6 kDa): Rv3875\n",
    "protein_id = \"83332.Rv3875\"\n",
    "if protein_id in G.nodes:\n",
    "    print(\"Protein found!\")\n",
    "    print(\"Protein attributes:\", G.nodes[protein_id])\n",
    "else:\n",
    "    print(\"Protein not found.\")"
   ]
  },
  {
   "cell_type": "code",
   "execution_count": 44,
   "metadata": {},
   "outputs": [
    {
     "name": "stdout",
     "output_type": "stream",
     "text": [
      "Neighbors of 83332.Rv3875:\n",
      " -  Species:83332 Species\n",
      " -  CL:26 Cluster\n",
      " -  CL:23 Cluster\n",
      " -  CL:21 Cluster\n",
      " -  CL:16 Cluster\n",
      " -  CL:12 Cluster\n",
      " -  CL:10 Cluster\n",
      " -  CL:5 Cluster\n",
      " -  CL:0 Cluster\n",
      " -  CL:28 Cluster\n",
      " -  CL:30 Cluster\n",
      " -  CL:31 Cluster\n",
      " -  CL:32 Cluster\n",
      " -  CL:33 Cluster\n",
      " -  CL:34 Cluster\n",
      " -  CL:35 Cluster\n",
      " -  CL:36 Cluster\n",
      " -  CL:37 Cluster\n",
      " -  CL:38 Cluster\n",
      " -  CL:39 Cluster\n"
     ]
    }
   ],
   "source": [
    "# Neighbors of a protein\n",
    "neighbors = list(G.neighbors(protein_id))\n",
    "print(f\"Neighbors of {protein_id}:\")\n",
    "for nbr in neighbors[:20]:\n",
    "    print(\" - \", nbr, G.nodes[nbr].get('label'))"
   ]
  },
  {
   "cell_type": "code",
   "execution_count": 45,
   "metadata": {},
   "outputs": [
    {
     "name": "stdout",
     "output_type": "stream",
     "text": [
      "Protein found!\n",
      "Protein attributes: {'label': 'Protein', 'preferred_name': 'esxB', 'protein_size': 100, 'annotation': '10 kDa culture filtrate antigen EsxB (LHP) (CFP10); A secreted protein. Acts as a strong host (human) T-cell antigen. Involved in translocation of bacteria from the host (human) phagolysosome to the host cytoplasm. Might serve as a chaperone to prevent uncontrolled membrane lysis by its partner EsxA; native protein binds poorly to artificial liposomes in the absence or presence of EsxA. EsxA and EsxA-EsxB are cytotoxic to pneumocytes. EsxB (and EsxA-EsxB but not EsxA alone) activates human neutrophils; EsxB transiently induces host (human) intracellular Ca(2+) mobility in a dose-depend [...] ', 'sequence': 'MAEMKTDAATLAQEAGNFERISGDLKTQIDQVESTAGSLQGQWRGAAGTAAQAAVVRFQEAANKQKQELDEISTNIRQAGVQYSRADEEQQQALSSQMGF'}\n"
     ]
    }
   ],
   "source": [
    "# CFP-10 (10 kDa Culture Filtrate Protein): Rv3874\n",
    "protein_id = \"83332.Rv3874\"\n",
    "if protein_id in G.nodes:\n",
    "    print(\"Protein found!\")\n",
    "    print(\"Protein attributes:\", G.nodes[protein_id])\n",
    "else:\n",
    "    print(\"Protein not found.\")"
   ]
  },
  {
   "cell_type": "code",
   "execution_count": 46,
   "metadata": {},
   "outputs": [
    {
     "name": "stdout",
     "output_type": "stream",
     "text": [
      "Neighbors of 83332.Rv3874:\n",
      " -  Species:83332 Species\n",
      " -  CL:26 Cluster\n",
      " -  CL:23 Cluster\n",
      " -  CL:21 Cluster\n",
      " -  CL:16 Cluster\n",
      " -  CL:12 Cluster\n",
      " -  CL:10 Cluster\n",
      " -  CL:5 Cluster\n",
      " -  CL:0 Cluster\n",
      " -  CL:28 Cluster\n",
      " -  CL:30 Cluster\n",
      " -  CL:31 Cluster\n",
      " -  CL:32 Cluster\n",
      " -  CL:33 Cluster\n",
      " -  CL:34 Cluster\n",
      " -  CL:35 Cluster\n",
      " -  CL:36 Cluster\n",
      " -  CL:37 Cluster\n",
      " -  CL:38 Cluster\n",
      " -  CL:39 Cluster\n"
     ]
    }
   ],
   "source": [
    "# Neighbors of a protein\n",
    "neighbors = list(G.neighbors(protein_id))\n",
    "print(f\"Neighbors of {protein_id}:\")\n",
    "for nbr in neighbors[:20]:\n",
    "    print(\" - \", nbr, G.nodes[nbr].get('label'))"
   ]
  },
  {
   "cell_type": "code",
   "execution_count": 47,
   "metadata": {},
   "outputs": [
    {
     "name": "stdout",
     "output_type": "stream",
     "text": [
      "Protein found!\n",
      "Protein attributes: {'label': 'Protein', 'preferred_name': 'fabH', 'protein_size': 335, 'annotation': '3-oxoacyl-[acyl-carrier-protein] synthase III FabH (beta-ketoacyl-ACP synthase III) (KAS III); Catalyzes the condensation reaction of fatty acid synthesis by the addition to an acyl acceptor of two carbons from malonyl-ACP. Catalyzes the first condensation reaction which initiates fatty acid synthesis and may therefore play a role in governing the total rate of fatty acid production. Possesses both acetoacetyl-ACP synthase and acetyl transacylase activities. Has some substrate specificity for long chain acyl-CoA such as myristoyl-CoA. Does not use acyl-CoA as primer. Its substrate spec [...] ', 'sequence': 'MTEIATTSGARSVGLLSVGAYRPERVVTNDEICQHIDSSDEWIYTRTGIKTRRFAADDESAASMATEACRRALSNAGLSAADIDGVIVTTNTHFLQTPPAAPMVAASLGAKGILGFDLSAGCAGFGYALGAAADMIRGGGAATMLVVGTEKLSPTIDMYDRGNCFIFADGAAAVVVGETPFQGIGPTVAGSDGEQADAIRQDIDWITFAQNPSGPRPFVRLEGPAVFRWAAFKMGDVGRRAMDAAGVRPDQIDVFVPHQANSRINELLVKNLQLRPDAVVANDIEHTGNTSAASIPLAMAELLTTGAAKPGDLALLIGYGAGLSYAAQVVRMPKG'}\n"
     ]
    }
   ],
   "source": [
    "# FabH (β-Ketoacyl-ACP Synthase III): Rv0533c\n",
    "protein_id = \"83332.Rv0533c\"\n",
    "if protein_id in G.nodes:\n",
    "    print(\"Protein found!\")\n",
    "    print(\"Protein attributes:\", G.nodes[protein_id])\n",
    "else:\n",
    "    print(\"Protein not found.\")"
   ]
  },
  {
   "cell_type": "code",
   "execution_count": 48,
   "metadata": {},
   "outputs": [
    {
     "name": "stdout",
     "output_type": "stream",
     "text": [
      "Neighbors of 83332.Rv0533c:\n",
      " -  Species:83332 Species\n",
      " -  CL:26 Cluster\n",
      " -  CL:23 Cluster\n",
      " -  CL:21 Cluster\n",
      " -  CL:16 Cluster\n",
      " -  CL:12 Cluster\n",
      " -  CL:10 Cluster\n",
      " -  CL:5 Cluster\n",
      " -  CL:0 Cluster\n",
      " -  CL:28 Cluster\n",
      " -  CL:30 Cluster\n",
      " -  CL:31 Cluster\n",
      " -  CL:32 Cluster\n",
      " -  CL:33 Cluster\n",
      " -  CL:34 Cluster\n",
      " -  CL:35 Cluster\n",
      " -  CL:36 Cluster\n",
      " -  CL:37 Cluster\n",
      " -  CL:38 Cluster\n",
      " -  CL:39 Cluster\n"
     ]
    }
   ],
   "source": [
    "# Neighbors of a protein\n",
    "neighbors = list(G.neighbors(protein_id))\n",
    "print(f\"Neighbors of {protein_id}:\")\n",
    "for nbr in neighbors[:20]:\n",
    "    print(\" - \", nbr, G.nodes[nbr].get('label'))"
   ]
  },
  {
   "cell_type": "code",
   "execution_count": 49,
   "metadata": {},
   "outputs": [
    {
     "name": "stdout",
     "output_type": "stream",
     "text": [
      "Protein found!\n",
      "Protein attributes: {'label': 'Protein', 'preferred_name': 'sigA', 'protein_size': 528, 'annotation': 'RNA polymerase sigma factor SigA (sigma-A); Sigma factors are initiation factors that promote the attachment of RNA polymerase to specific initiation sites and are then released. This sigma factor is the primary sigma factor during exponential growth (Probable); Belongs to the sigma-70 factor family. RpoD/SigA subfamily.', 'sequence': 'MAATKASTATDEPVKRTATKSPAASASGAKTGAKRTAAKSASGSPPAKRATKPAARSVKPASAPQDTTTSTIPKRKTRAAAKSAAAKAPSARGHATKPRAPKDAQHEAATDPEDALDSVEELDAEPDLDVEPGEDLDLDAADLNLDDLEDDVAPDADDDLDSGDDEDHEDLEAEAAVAPGQTADDDEEIAEPTEKDKASGDFVWDEDESEALRQARKDAELTASADSVRAYLKQIGKVALLNAEEEVELAKRIEAGLYATQLMTELSERGEKLPAAQRRDMMWICRDGDRAKNHLLEANLRLVVSLAKRYTGRGMAFLDLIQEGNLGLIRAVEKFDYTKGYKFSTYATWWIRQAITRAMADQARTIRIPVHMVEVINKLGRIQRELLQDLGREPTPEELAKEMDITPEKVLEIQQYAREPISLDQTIGDEGDSQLGDFIEDSEAVVAVDAVSFTLLQDQLQSVLDTLSEREAGVVRLRFGLTDGQPRTLDEIGQVYGVTRERIRQIESKTMSKLRHPSRSQVLRDYLD'}\n"
     ]
    }
   ],
   "source": [
    "# SigA (Sigma Factor A): Rv2703\n",
    "protein_id = \"83332.Rv2703\"\n",
    "if protein_id in G.nodes:\n",
    "    print(\"Protein found!\")\n",
    "    print(\"Protein attributes:\", G.nodes[protein_id])\n",
    "else:\n",
    "    print(\"Protein not found.\")"
   ]
  },
  {
   "cell_type": "code",
   "execution_count": 50,
   "metadata": {},
   "outputs": [
    {
     "name": "stdout",
     "output_type": "stream",
     "text": [
      "Neighbors of 83332.Rv2703:\n",
      " -  Species:83332 Species\n",
      " -  CL:26 Cluster\n",
      " -  CL:23 Cluster\n",
      " -  CL:21 Cluster\n",
      " -  CL:16 Cluster\n",
      " -  CL:12 Cluster\n",
      " -  CL:10 Cluster\n",
      " -  CL:5 Cluster\n",
      " -  CL:0 Cluster\n",
      " -  CL:28 Cluster\n",
      " -  CL:30 Cluster\n",
      " -  CL:31 Cluster\n",
      " -  CL:32 Cluster\n",
      " -  CL:33 Cluster\n",
      " -  CL:34 Cluster\n",
      " -  CL:35 Cluster\n",
      " -  CL:36 Cluster\n",
      " -  CL:37 Cluster\n",
      " -  CL:38 Cluster\n",
      " -  CL:39 Cluster\n"
     ]
    }
   ],
   "source": [
    "# Neighbors of a protein\n",
    "neighbors = list(G.neighbors(protein_id))\n",
    "print(f\"Neighbors of {protein_id}:\")\n",
    "for nbr in neighbors[:20]:\n",
    "    print(\" - \", nbr, G.nodes[nbr].get('label'))"
   ]
  },
  {
   "cell_type": "code",
   "execution_count": 51,
   "metadata": {},
   "outputs": [
    {
     "name": "stdout",
     "output_type": "stream",
     "text": [
      "Protein found!\n",
      "Protein attributes: {'label': 'Protein', 'preferred_name': 'pknB', 'protein_size': 626, 'annotation': 'Transmembrane serine/threonine-protein kinase B PknB (protein kinase B) (STPK B); Protein kinase that regulates many aspects of mycobacterial physiology, and is critical for growth in vitro and survival of the pathogen in the host. Is a key component of a signal transduction pathway that regulates cell growth, cell shape and cell division via phosphorylation of target proteins such as GarA, GlmU, PapA5, PbpA, FhaB (Rv0019c), FhaA (Rv0020c), MviN, PstP, EmbR, Rv1422, Rv1747 and RseA. Also catalyzes the phosphorylation of the core proteasome alpha-subunit (PrcA), and thereby regulates th [...] ', 'sequence': 'MTTPSHLSDRYELGEILGFGGMSEVHLARDLRLHRDVAVKVLRADLARDPSFYLRFRREAQNAAALNHPAIVAVYDTGEAETPAGPLPYIVMEYVDGVTLRDIVHTEGPMTPKRAIEVIADACQALNFSHQNGIIHRDVKPANIMISATNAVKVMDFGIARAIADSGNSVTQTAAVIGTAQYLSPEQARGDSVDARSDVYSLGCVLYEVLTGEPPFTGDSPVSVAYQHVREDPIPPSARHEGLSADLDAVVLKALAKNPENRYQTAAEMRADLVRVHNGEPPEAPKVLTDAERTSLLSSAAGNLSGPRTDPLPRQDLDDTDRDRSIGSVGRWVAVVAVLAVLTVVVTIAINTFGGITRDVQVPDVRGQSSADAIATLQNRGFKIRTLQKPDSTIPPDHVIGTDPAANTSVSAGDEITVNVSTGPEQREIPDVSTLTYAEAVKKLTAAGFGRFKQANSPSTPELVGKVIGTNPPANQTSAITNVVIIIVGSGPATKDIPDVAGQTVDVAQKNLNVYGFTKFSQASVDSPRPAGEVTGTNPPAGTTVPVDSVIELQVSKGNQFVMPDLSGMFWVDAEPRLRALGWTGMLDKGADVDAGGSQHNRVVYQNPPAGTGVNRDGIITLRFGQ'}\n"
     ]
    }
   ],
   "source": [
    "# PknB (Protein Kinase B): Rv0014c\n",
    "protein_id = \"83332.Rv0014c\"\n",
    "if protein_id in G.nodes:\n",
    "    print(\"Protein found!\")\n",
    "    print(\"Protein attributes:\", G.nodes[protein_id])\n",
    "else:\n",
    "    print(\"Protein not found.\")"
   ]
  },
  {
   "cell_type": "code",
   "execution_count": 52,
   "metadata": {},
   "outputs": [
    {
     "name": "stdout",
     "output_type": "stream",
     "text": [
      "Neighbors of 83332.Rv0014c:\n",
      " -  Species:83332 Species\n",
      " -  CL:26 Cluster\n",
      " -  CL:23 Cluster\n",
      " -  CL:21 Cluster\n",
      " -  CL:16 Cluster\n",
      " -  CL:12 Cluster\n",
      " -  CL:10 Cluster\n",
      " -  CL:5 Cluster\n",
      " -  CL:0 Cluster\n",
      " -  CL:28 Cluster\n",
      " -  CL:30 Cluster\n",
      " -  CL:31 Cluster\n",
      " -  CL:32 Cluster\n",
      " -  CL:33 Cluster\n",
      " -  CL:34 Cluster\n",
      " -  CL:35 Cluster\n",
      " -  CL:36 Cluster\n",
      " -  CL:37 Cluster\n",
      " -  CL:38 Cluster\n",
      " -  CL:39 Cluster\n"
     ]
    }
   ],
   "source": [
    "# Neighbors of a protein\n",
    "neighbors = list(G.neighbors(protein_id))\n",
    "print(f\"Neighbors of {protein_id}:\")\n",
    "for nbr in neighbors[:20]:\n",
    "    print(\" - \", nbr, G.nodes[nbr].get('label'))"
   ]
  },
  {
   "cell_type": "markdown",
   "metadata": {},
   "source": [
    "### 9.2 Extracting a PPI Subgraph"
   ]
  },
  {
   "cell_type": "markdown",
   "metadata": {},
   "source": [
    "- Creates a subgraph containing **only** protein-protein interaction edges (both physical and functional).  \n",
    "- This is useful for standard network analysis (centralities, communities, etc.)."
   ]
  },
  {
   "cell_type": "code",
   "execution_count": 38,
   "metadata": {},
   "outputs": [
    {
     "name": "stdout",
     "output_type": "stream",
     "text": [
      "PPI subgraph nodes: 4023\n",
      "PPI subgraph edges: 4382880\n"
     ]
    }
   ],
   "source": [
    "ppi_edges = [(u,v,k) for u,v,k in G.edges(keys=True) \n",
    "             if G[u][v][k].get('label','') in ['STRING_INTERACTION','PHYSICAL_INTERACTION','STRING_INTERACTION_DETAILED','STRING_INTERACTION_FULL','PHYSICAL_INTERACTION_DETAILED','PHYSICAL_INTERACTION_FULL']]\n",
    "\n",
    "PPI = G.edge_subgraph(ppi_edges).copy()\n",
    "print(\"PPI subgraph nodes:\", PPI.number_of_nodes())\n",
    "print(\"PPI subgraph edges:\", PPI.number_of_edges())"
   ]
  },
  {
   "cell_type": "code",
   "execution_count": 39,
   "metadata": {},
   "outputs": [
    {
     "name": "stdout",
     "output_type": "stream",
     "text": [
      "Min degree: 6\n",
      "Max degree: 13890\n"
     ]
    }
   ],
   "source": [
    "degree_sequence = [deg for n,deg in PPI.degree()]\n",
    "print(\"Min degree:\", min(degree_sequence))\n",
    "print(\"Max degree:\", max(degree_sequence))"
   ]
  },
  {
   "cell_type": "markdown",
   "metadata": {},
   "source": [
    "- Shows the minimum and maximum degrees in that PPI subgraph and identifies the top 10 hubs.  \n",
    "- This often reveals highly connected polyketide synthases, fatty acid synthases, or key regulatory proteins in Mycobacterium tuberculosis."
   ]
  },
  {
   "cell_type": "code",
   "execution_count": 40,
   "metadata": {},
   "outputs": [
    {
     "name": "stdout",
     "output_type": "stream",
     "text": [
      "Top 10 hub proteins:\n",
      "83332.Rv2048c 13890 pks12 Polyketide synthase Pks12; Rv2048c, (MTV018.35c), len: 4151 aa. Pks12,polyketide synthase similar to many. Contains 2x PS00012 Phosphopantetheine attachment site, 2x PS00606 Beta-ketoacyl synthases active site, and PS00343 Gram-positive cocci surface proteins 'anchoring' hexapeptide. Nucleotide position 2297976 in the genome sequence has been corrected, G:A resulting in S3004L.\n",
      "83332.Rv3825c 13482 pks2 Polyketide synthase Pks2; Catalyzes the synthesis of the hepta- and octamethyl phthioceranic acids and/or hydroxyphthioceranic acids that are the major acyl constituents of sulfolipids.\n",
      "83332.Rv2940c 13452 mas Rv2940c, (MTCY24G1.09, MTCY19H9.08c), len: 2111 aa. Probable mas, mycocerosic acid synthase membrane associated, multifunctional enzyme (see citations below),almost identical to Q02251|MCAS_MYCBO|mas mycocerosic acid synthase from Mycobacterium bovis (2110 aa), FASTA scores: opt: 13226, E(): 0, (95.8% identity in 2115 aa overlap) (see Mathur & Kolattukudy 1992); and equivalent to Q9CD78|mas|ML0139 putative mycocerosic synthase from Mycobacterium leprae (2116 aa), FASTA scores: opt: 12142,E(): 0, (87.95% identity in 2119 aa overlap); and Q49624|PKS3|MASA|ML1229|B1170_C2_209 probable myc [...] \n",
      "83332.Rv1527c 13374 pks5 Probable polyketide synthase Pks5; Polyketide synthase likely involved in the biosynthesis of a polymethyl-branched fatty acid (PMB-FA) that might only be produced during host infection. Is required for the full virulence of M.tuberculosis during host infection.\n",
      "83332.Rv2933 13254 ppsC Phenolpthiocerol synthesis type-I polyketide synthase PpsC; Involved in the elongation of either C22-24 fatty acids by the addition of malonyl-CoA and methylmalonyl-CoA extender units to yield phthiocerol derivatives.\n",
      "83332.Rv2946c 12432 pks1 Probable polyketide synthase Pks1; May play a role in phthiocerol biosynthesis.\n",
      "83332.Rv1181 10746 pks4 Probable polyketide beta-ketoacyl synthase Pks4; Polyketide synthase involved in the biosynthesis of methyl- branched fatty acids such as mycolipanoic, mycolipenic (phthienoic) and mycolipodienoic acids required for the synthesis of a major class of polyacylated trehaloses. Catalyzes the elongation of CoA esters of long-chain fatty acids by incorporation of three methylmalonyl (but not malonyl) residues, to form trimethyl-branched fatty-acids.\n",
      "83332.Rv2524c 10716 fas Rv2524c, (MTCY159.32, MTV009.09c), len: 3069 aa. Probable fas, Fatty Acid Synthase, equivalent to Q9X7E2|fas|ML1191 putative type I fatty acid synthase from Mycobacterium leprae (3076 aa), FASTA scores: opt: 17484,E(): 0, (85.8% identity in 3081 aa overlap). Also similar to others e.g. Q04846|fas|Q59497 from Corynebacterium ammoniagenes (Brevibacterium ammoniagenes) (3104 aa), FASTA scores: opt: 3981, E(): 5.5e-203, (49.8% identity in 3099 aa overlap); Q48926|fas from Mycobacterium bovis (2796 aa),FASTA scores: opt: 2098, E(): 3.9e-103, (59.7% identity in 2862 aa overlap) (see Fernande [...] \n",
      "83332.Rv3800c 10326 pks13 Polyketide synthase Pks13; Rv3800c, (MTV026.05c), len: 1733 aa. Probable pks13,polyketide synthase, equivalent to Q9CDB1|PKS13|ML0101 polyketide synthase from Mycobacterium leprae (1784 aa),FASTA scores: opt: 7454, E(): 0, (83.6% identity in 1748 aa overlap); and similar to Q9Z5K6|ML2357|MLCB12.02c putative polyketide synthase from Mycobacterium leprae (1871 aa),FASTA scores: opt: 1682, E(): 1.2e-85, (38.3% identity in 1096 aa overlap). Also similar in part to many e.g. Q9ADL6|SORA soraphen polyketide synthase a from Polyangium cellulosum (6315 aa) FASTA scores: opt: 1422, E(): 1e-70,( [...] \n",
      "83332.Rv1663 10122 pks17 Rv1663, (MTCY275.02), len: 502 aa. Probable pks17,polyketide synthase, similar to other polyketide synthases e g. ERY2_SACER|Q03132 erythronolide synthase, modules 3 and 4 (3567 aa) from Saccharopolyspora erythraea (Streptomyces erythraeus), FASTA scores: opt: 1207, E(): 0,(43.9% identity in 531 aa overlap). Also similar to other Mycobacterium tuberculosis probable polyketide synthases e.g. pks7 and pks1. Note that the similarity extends into the upstream ORF Rv1662 (MTCY275.01) and this could be accounted for by a frameshift, although the sequence has been checked and no discrepancy w [...] \n"
     ]
    }
   ],
   "source": [
    "sorted_by_degree = sorted(PPI.degree(), key=lambda x: x[1], reverse=True)\n",
    "print(\"Top 10 hub proteins:\")\n",
    "for n,d in sorted_by_degree[:10]:\n",
    "    print(n, d, G.nodes[n].get('preferred_name',''), G.nodes[n].get('annotation',''))"
   ]
  },
  {
   "cell_type": "markdown",
   "metadata": {},
   "source": [
    "### 9.3 Orthologous Groups and Terms"
   ]
  },
  {
   "cell_type": "markdown",
   "metadata": {},
   "source": [
    "- A function to retrieve all orthologous groups for a given protein.  \n",
    "- Then, for each OG, collects the other proteins that also belong to that OG.  \n",
    "- Helps see evolutionary/functional relationships."
   ]
  },
  {
   "cell_type": "code",
   "execution_count": 41,
   "metadata": {},
   "outputs": [],
   "source": [
    "def get_orthologous_groups_for_protein(protein):\n",
    "    og_nodes = []\n",
    "    for u,v,k in G.out_edges(protein, keys=True):\n",
    "        if G[u][v][k].get('label') == 'BELONGS_TO_OG':\n",
    "            og_nodes.append(v)\n",
    "    return og_nodes"
   ]
  },
  {
   "cell_type": "code",
   "execution_count": 42,
   "metadata": {},
   "outputs": [
    {
     "name": "stdout",
     "output_type": "stream",
     "text": [
      "Orthologous groups for 83332.Rv0001: ['OG:COG0593', 'OG:COG0593', 'OG:COG0593', 'OG:NOG117348', 'OG:NOG002203', 'OG:NOG001178', 'OG:NOG001281', 'OG:NOG001814', 'OG:NOG047772', 'OG:NOG103400']\n"
     ]
    }
   ],
   "source": [
    "ogs = get_orthologous_groups_for_protein(protein_id)\n",
    "print(f\"Orthologous groups for {protein_id}:\", ogs)"
   ]
  },
  {
   "cell_type": "code",
   "execution_count": 53,
   "metadata": {},
   "outputs": [
    {
     "name": "stdout",
     "output_type": "stream",
     "text": [
      "Other proteins in these orthologous groups:\n",
      "83332.Rv1013 pks16 Rv1013, (MTCI237.30-MTCY10G2.36c), len: 544 aa. Putative pks16, polyketide synthase, similar to many e.g. N-terminus of Q50857|U24657 saframycin MX1 synthetase B (1770 aa), FASTA scores: opt: 526, E(): 1.4e-25, (29.3% identity in 542 aa overlap); etc. Contains PS00455 Putative AMP-binding domain signature. Belongs to the ATP-dependent AMP-binding enzyme family.\n",
      "83332.Rv0969 ctpV Probable metal cation transporter P-type ATPase CtpV; Necessary for copper homeostasis and likely functions as a copper exporter. Also required for full virulence.\n",
      "83332.Rv1550 fadD11 Rv1550, (MTCY48.15c), len: 571 aa. Probable fadD11,fatty-acid-CoA synthetase, similar, except in N-terminus,to many e.g. SC6A5.39|T35430 probable long-chain-fatty-acid--CoA ligase from Streptomyces coelicolor (612 aa); NP_301672.1|NC_002677 putative long-chain-fatty-acid-CoA ligase from Mycobacterium leprae (600 aa); P44446|LCFH_HAEIN putative long-chain-fatty-acid-CoA ligase from Haemophilus influenzae (607 aa), FASTA scores: opt: 762, E(): 2.3e-38,(34.4% identity in 436 aa overlap); etc. Contains PS00455 Putative AMP-binding domain signature. Belongs to the ATP-dependent AMP-binding  [...] \n",
      "83332.Rv2077c Rv2077c Rv2077c, (MTCY49.16c), len: 323 aa. Possible conserved transmembrane protein. Part of Mycobacterium tuberculosis protein family with Rv2542, Rv2079, Rv2797c,Rv0963c, Rv1949c. Hydrophobic stretches at C-terminus.\n",
      "83332.Rv0001 dnaA Chromosomal replication initiator protein DnaA; Plays an important role in the initiation and regulation of chromosomal replication. Binds to the origin of replication; it binds specifically double-stranded DNA at a 9 bp consensus (dnaA box): 5'- TTATC[CA]A[CA]A-3'. DnaA binds to ATP and to acidic phospholipids (By similarity). Binds its own promoter.\n",
      "83332.Rv0884c serC Possible phosphoserine aminotransferase SerC (PSAT); Catalyzes the reversible conversion of 3- phosphohydroxypyruvate to phosphoserine and of 3-hydroxy-2-oxo-4- phosphonooxybutanoate to phosphohydroxythreonine; Belongs to the class-V pyridoxal-phosphate-dependent aminotransferase family. SerC subfamily.\n",
      "83332.Rv2631 rtcB Conserved hypothetical protein; GTP-dependent RNA ligase that is involved in tRNA splicing and RNA repair. Joins RNA with 2',3'-cyclic-phosphate or 3'-phosphate ends to RNA with 5'-hydroxy ends.\n",
      "83332.Rv3166c Rv3166c Conserved hypothetical protein; Rv3166c, (MTV014.10c), len: 319 aa. Probable transmembrane protein, similar but longer (52 aa) to O32895|MLCB1779.35c hypothetical protein from Mycobacterium leprae (119 aa), FASTA scores: opt: 289, E(): 3.7e-10,(44.25% identity in 122 aa overlap). Also some similarity to Q9Z536|SC9B2.23c putative transmembrane protein from Streptomyces coelicolor (339 aa), FASTA scores: opt: 247,E(): 2.5e-07, (28.2% identity in 326 aa overlap); and in N-terminus to Q9RS20|DR2307 putative multidrug-efflux transporter from Deinococcus radiodurans (410 aa), FASTA scores: o [...] \n",
      "83332.Rv1995 Rv1995 Unknown protein; Rv1995, (MTCY39.24c), len: 255 aa. Unknown protein.\n",
      "83332.Rv1345 mbtM Probable fatty acyl-AMP ligase MbtM; Activates lipidic moieties required for mycobactin biosynthesis. Converts medium- to long-chain aliphatic fatty acids into acyl adenylate, which is further transferred on to the phosphopantetheine arm of the carrier protein MbtL. Belongs to the ATP-dependent AMP-binding enzyme family.\n",
      "83332.Rv3917c parB Probable chromosome partitioning protein ParB; Involved in chromosome partition. Localize to both poles of the predivisional cell following completion of DNA replication. Binds to the DNA origin of replication (By similarity); Belongs to the ParB family.\n",
      "83332.Rv2637 dedA Rv2637, (MTCY441.07), len: 218 aa. Possible dedA,transmembrane protein, equivalent to Q49642|YQ37_MYCLE|ML0467|MLCL581.27|B1177_C2_172/B1177_C1_ 140 hypothetical 23.1 KDA protein (potential integral membrane protein, belongs to the DedA family) from Mycobacterium leprae (214 aa), FASTA scores: opt: 1160, E(): 4.4e-64,(82.75% identity in 209 aa overlap); and O69601|Y364_MYCLE|ML0287|MLCB4.30 hypothetical protein (potential integral membrane protein) (222 aa), FASTA scores: opt: 292, E(): 6.6e-11, (32.25% identity in 189 aa overlap). Also highly similar to other membrane proteins e.g. CA [...] \n",
      "83332.Rv3568c hsaC 3,4-DHSA dioxygenase; Catalyzes the meta-cleavage of 3,4-dihydroxy-9,10- seconandrost-1,3,5(10)-triene-9,17-dione (3,4-DHSA) to produce 4,5- 9,10-diseco-3-hydroxy-5,9,17-trioxoandrosta-1(10),2-diene-4-oic acid (4,9-DSHA).\n",
      "83332.Rv2702 ppgK Polyphosphate glucokinase PpgK (polyphosphate-glucose phosphotransferase); Catalyzes the phosphorylation of glucose using polyphosphate or ATP as the phosphoryl donor. Polyphosphate, rather than ATP, seems to be the major phosphate donor for the enzyme in M.tuberculosis (By similarity); Belongs to the ROK (NagC/XylR) family.\n",
      "83332.Rv1193 fadD36 Rv1193, (MTCI364.05), len: 473 aa. Probable fadD36,fatty-acid-CoA synthetase, highly similar to Q50017|U15181 4-coumarate-CoA ligase from Mycobacterium leprae (476 aa),FASTA scores: opt: 2594, E(): 0, (81.3% identity in 476 aa overlap). Also highly similar to others e.g. CAB86109.1|AL163003 putative fatty acid synthase from Streptomyces coelicolor (485 aa); LCFA_ECOLI|P29212 long-chain-fatty-acid--CoA ligase from Escherichia coli (561 aa), FASTA scores: opt: 605, E(): 8.4e-30, (33.0% identity in 364 aa overlap); etc. Contains PS00455 Putative AMP-binding domain signature. Belongs to th [...] \n"
     ]
    }
   ],
   "source": [
    "other_proteins = set()\n",
    "for og in ogs:\n",
    "    for u,v,k in G.in_edges(og, keys=True):\n",
    "        if G[u][v][k].get('label') == 'BELONGS_TO_OG' and G.nodes[u].get('label') == 'Protein':\n",
    "            other_proteins.add(u)\n",
    "\n",
    "print(\"Other proteins in these orthologous groups:\")\n",
    "for p in list(other_proteins)[:20]:\n",
    "    print(p, G.nodes[p].get('preferred_name','No name'), G.nodes[p].get('annotation','No annotation'))"
   ]
  },
  {
   "cell_type": "markdown",
   "metadata": {},
   "source": [
    "- Retrieves any enrichment terms (e.g., GO, KEGG, annotated keywords) attached to the protein.  \n",
    "- A quick way to see functional annotations."
   ]
  },
  {
   "cell_type": "code",
   "execution_count": 54,
   "metadata": {},
   "outputs": [],
   "source": [
    "def get_terms_for_protein(protein):\n",
    "    terms = []\n",
    "    for u,v,k in G.out_edges(protein, keys=True):\n",
    "        if G[u][v][k].get('label') == 'HAS_TERM':\n",
    "            terms.append(v)\n",
    "    return terms"
   ]
  },
  {
   "cell_type": "code",
   "execution_count": 55,
   "metadata": {},
   "outputs": [
    {
     "name": "stdout",
     "output_type": "stream",
     "text": [
      "Terms for 83332.Rv0014c:\n",
      "Term:Annotated Keywords (UniProt):KW-0007 Acetylation\n",
      "Term:Annotated Keywords (UniProt):KW-0067 ATP-binding\n",
      "Term:Annotated Keywords (UniProt):KW-0418 Kinase\n",
      "Term:Annotated Keywords (UniProt):KW-0460 Magnesium\n",
      "Term:Annotated Keywords (UniProt):KW-0472 Membrane\n",
      "Term:Annotated Keywords (UniProt):KW-0479 Metal-binding\n",
      "Term:Annotated Keywords (UniProt):KW-0547 Nucleotide-binding\n",
      "Term:Annotated Keywords (UniProt):KW-0597 Phosphoprotein\n",
      "Term:Annotated Keywords (UniProt):KW-0677 Repeat\n",
      "Term:Annotated Keywords (UniProt):KW-0723 Serine/threonine-protein kinase\n",
      "Term:Annotated Keywords (UniProt):KW-0808 Transferase\n",
      "Term:Annotated Keywords (UniProt):KW-0812 Transmembrane\n",
      "Term:Annotated Keywords (UniProt):KW-0843 Virulence\n",
      "Term:Annotated Keywords (UniProt):KW-1003 Cell membrane\n",
      "Term:Annotated Keywords (UniProt):KW-1133 Transmembrane helix\n",
      "Term:Biological Process (Gene Ontology):GO:0000270 Peptidoglycan metabolic process\n",
      "Term:Biological Process (Gene Ontology):GO:0006022 Aminoglycan metabolic process\n",
      "Term:Biological Process (Gene Ontology):GO:0006023 Aminoglycan biosynthetic process\n",
      "Term:Biological Process (Gene Ontology):GO:0006024 Glycosaminoglycan biosynthetic process\n",
      "Term:Biological Process (Gene Ontology):GO:0006468 Protein phosphorylation\n",
      "Term:Biological Process (Gene Ontology):GO:0006793 Phosphorus metabolic process\n",
      "Term:Biological Process (Gene Ontology):GO:0006796 Phosphate-containing compound metabolic process\n",
      "Term:Biological Process (Gene Ontology):GO:0006807 Nitrogen compound metabolic process\n",
      "Term:Biological Process (Gene Ontology):GO:0008152 Metabolic process\n",
      "Term:Biological Process (Gene Ontology):GO:0008360 Regulation of cell shape\n",
      "Term:Biological Process (Gene Ontology):GO:0009058 Biosynthetic process\n",
      "Term:Biological Process (Gene Ontology):GO:0009059 Macromolecule biosynthetic process\n",
      "Term:Biological Process (Gene Ontology):GO:0009252 Peptidoglycan biosynthetic process\n",
      "Term:Biological Process (Gene Ontology):GO:0009273 Peptidoglycan-based cell wall biogenesis\n",
      "Term:Biological Process (Gene Ontology):GO:0009605 Response to external stimulus\n",
      "Term:Biological Process (Gene Ontology):GO:0009607 Response to biotic stimulus\n",
      "Term:Biological Process (Gene Ontology):GO:0009889 Regulation of biosynthetic process\n",
      "Term:Biological Process (Gene Ontology):GO:0009890 Negative regulation of biosynthetic process\n",
      "Term:Biological Process (Gene Ontology):GO:0009892 Negative regulation of metabolic process\n",
      "Term:Biological Process (Gene Ontology):GO:0009987 Cellular process\n",
      "Term:Biological Process (Gene Ontology):GO:0010565 Regulation of cellular ketone metabolic process\n",
      "Term:Biological Process (Gene Ontology):GO:0016310 Phosphorylation\n",
      "Term:Biological Process (Gene Ontology):GO:0018105 Peptidyl-serine phosphorylation\n",
      "Term:Biological Process (Gene Ontology):GO:0018193 Peptidyl-amino acid modification\n",
      "Term:Biological Process (Gene Ontology):GO:0018209 Peptidyl-serine modification\n",
      "Term:Biological Process (Gene Ontology):GO:0019216 Regulation of lipid metabolic process\n",
      "Term:Biological Process (Gene Ontology):GO:0019217 Regulation of fatty acid metabolic process\n",
      "Term:Biological Process (Gene Ontology):GO:0019222 Regulation of metabolic process\n",
      "Term:Biological Process (Gene Ontology):GO:0019538 Protein metabolic process\n",
      "Term:Biological Process (Gene Ontology):GO:0022603 Regulation of anatomical structure morphogenesis\n",
      "Term:Biological Process (Gene Ontology):GO:0022604 Regulation of cell morphogenesis\n",
      "Term:Biological Process (Gene Ontology):GO:0030203 Glycosaminoglycan metabolic process\n",
      "Term:Biological Process (Gene Ontology):GO:0031323 Regulation of cellular metabolic process\n",
      "Term:Biological Process (Gene Ontology):GO:0031324 Negative regulation of cellular metabolic process\n",
      "Term:Biological Process (Gene Ontology):GO:0031326 Regulation of cellular biosynthetic process\n",
      "Term:Biological Process (Gene Ontology):GO:0031327 Negative regulation of cellular biosynthetic process\n",
      "Term:Biological Process (Gene Ontology):GO:0032091 Negative regulation of protein binding\n",
      "Term:Biological Process (Gene Ontology):GO:0034645 Cellular macromolecule biosynthetic process\n",
      "Term:Biological Process (Gene Ontology):GO:0036211 Protein modification process\n",
      "Term:Biological Process (Gene Ontology):GO:0040008 Regulation of growth\n",
      "Term:Biological Process (Gene Ontology):GO:0040009 Regulation of growth rate\n",
      "Term:Biological Process (Gene Ontology):GO:0042304 Regulation of fatty acid biosynthetic process\n",
      "Term:Biological Process (Gene Ontology):GO:0042546 Cell wall biogenesis\n",
      "Term:Biological Process (Gene Ontology):GO:0043085 Positive regulation of catalytic activity\n",
      "Term:Biological Process (Gene Ontology):GO:0043086 Negative regulation of catalytic activity\n",
      "Term:Biological Process (Gene Ontology):GO:0043170 Macromolecule metabolic process\n",
      "Term:Biological Process (Gene Ontology):GO:0043207 Response to external biotic stimulus\n",
      "Term:Biological Process (Gene Ontology):GO:0043388 Positive regulation of DNA binding\n",
      "Term:Biological Process (Gene Ontology):GO:0043393 Regulation of protein binding\n",
      "Term:Biological Process (Gene Ontology):GO:0043412 Macromolecule modification\n",
      "Term:Biological Process (Gene Ontology):GO:0044036 Cell wall macromolecule metabolic process\n",
      "Term:Biological Process (Gene Ontology):GO:0044038 Cell wall macromolecule biosynthetic process\n",
      "Term:Biological Process (Gene Ontology):GO:0044085 Cellular component biogenesis\n",
      "Term:Biological Process (Gene Ontology):GO:0044092 Negative regulation of molecular function\n",
      "Term:Biological Process (Gene Ontology):GO:0044093 Positive regulation of molecular function\n",
      "Term:Biological Process (Gene Ontology):GO:0044237 Cellular metabolic process\n",
      "Term:Biological Process (Gene Ontology):GO:0044238 Primary metabolic process\n",
      "Term:Biological Process (Gene Ontology):GO:0044249 Cellular biosynthetic process\n",
      "Term:Biological Process (Gene Ontology):GO:0044260 Cellular macromolecule metabolic process\n",
      "Term:Biological Process (Gene Ontology):GO:0044403 Biological process involved in symbiotic interaction\n",
      "Term:Biological Process (Gene Ontology):GO:0044419 Biological process involved in interspecies interaction between organisms\n",
      "Term:Biological Process (Gene Ontology):GO:0045717 Negative regulation of fatty acid biosynthetic process\n",
      "Term:Biological Process (Gene Ontology):GO:0045833 Negative regulation of lipid metabolic process\n",
      "Term:Biological Process (Gene Ontology):GO:0045922 Negative regulation of fatty acid metabolic process\n",
      "Term:Biological Process (Gene Ontology):GO:0045926 Negative regulation of growth\n",
      "Term:Biological Process (Gene Ontology):GO:0045967 Negative regulation of growth rate\n",
      "Term:Biological Process (Gene Ontology):GO:0046777 Protein autophosphorylation\n",
      "Term:Biological Process (Gene Ontology):GO:0046890 Regulation of lipid biosynthetic process\n",
      "Term:Biological Process (Gene Ontology):GO:0048519 Negative regulation of biological process\n",
      "Term:Biological Process (Gene Ontology):GO:0048523 Negative regulation of cellular process\n",
      "Term:Biological Process (Gene Ontology):GO:0050789 Regulation of biological process\n",
      "Term:Biological Process (Gene Ontology):GO:0050790 Regulation of catalytic activity\n",
      "Term:Biological Process (Gene Ontology):GO:0050793 Regulation of developmental process\n",
      "Term:Biological Process (Gene Ontology):GO:0050794 Regulation of cellular process\n",
      "Term:Biological Process (Gene Ontology):GO:0050896 Response to stimulus\n",
      "Term:Biological Process (Gene Ontology):GO:0051055 Negative regulation of lipid biosynthetic process\n",
      "Term:Biological Process (Gene Ontology):GO:0051098 Regulation of binding\n",
      "Term:Biological Process (Gene Ontology):GO:0051099 Positive regulation of binding\n",
      "Term:Biological Process (Gene Ontology):GO:0051100 Negative regulation of binding\n",
      "Term:Biological Process (Gene Ontology):GO:0051101 Regulation of DNA binding\n",
      "Term:Biological Process (Gene Ontology):GO:0051701 Biological process involved in interaction with host\n",
      "Term:Biological Process (Gene Ontology):GO:0051707 Response to other organism\n",
      "Term:Biological Process (Gene Ontology):GO:0052173 Response to defenses of other organism\n",
      "Term:Biological Process (Gene Ontology):GO:0052200 Response to host defenses\n",
      "Term:Biological Process (Gene Ontology):GO:0052572 Response to host immune response\n",
      "Term:Biological Process (Gene Ontology):GO:0062012 Regulation of small molecule metabolic process\n",
      "Term:Biological Process (Gene Ontology):GO:0062014 Negative regulation of small molecule metabolic process\n",
      "Term:Biological Process (Gene Ontology):GO:0065007 Biological regulation\n",
      "Term:Biological Process (Gene Ontology):GO:0065009 Regulation of molecular function\n",
      "Term:Biological Process (Gene Ontology):GO:0070589 Cellular component macromolecule biosynthetic process\n",
      "Term:Biological Process (Gene Ontology):GO:0071554 Cell wall organization or biogenesis\n",
      "Term:Biological Process (Gene Ontology):GO:0071704 Organic substance metabolic process\n",
      "Term:Biological Process (Gene Ontology):GO:0071840 Cellular component organization or biogenesis\n",
      "Term:Biological Process (Gene Ontology):GO:0075136 Response to host\n",
      "Term:Biological Process (Gene Ontology):GO:0080090 Regulation of primary metabolic process\n",
      "Term:Biological Process (Gene Ontology):GO:1901135 Carbohydrate derivative metabolic process\n",
      "Term:Biological Process (Gene Ontology):GO:1901137 Carbohydrate derivative biosynthetic process\n",
      "Term:Biological Process (Gene Ontology):GO:1901564 Organonitrogen compound metabolic process\n",
      "Term:Biological Process (Gene Ontology):GO:1901566 Organonitrogen compound biosynthetic process\n",
      "Term:Biological Process (Gene Ontology):GO:1901576 Organic substance biosynthetic process\n",
      "Term:Cellular Component (Gene Ontology):GO:0005618 Cell wall\n",
      "Term:Cellular Component (Gene Ontology):GO:0005622 Intracellular anatomical structure\n",
      "Term:Cellular Component (Gene Ontology):GO:0005737 Cytoplasm\n",
      "Term:Cellular Component (Gene Ontology):GO:0005829 Cytosol\n",
      "Term:Cellular Component (Gene Ontology):GO:0005886 Plasma membrane\n",
      "Term:Cellular Component (Gene Ontology):GO:0009274 Peptidoglycan-based cell wall\n",
      "Term:Cellular Component (Gene Ontology):GO:0016020 Membrane\n",
      "Term:Cellular Component (Gene Ontology):GO:0016021 Integral component of membrane\n",
      "Term:Cellular Component (Gene Ontology):GO:0030312 External encapsulating structure\n",
      "Term:Cellular Component (Gene Ontology):GO:0031224 Intrinsic component of membrane\n",
      "Term:Cellular Component (Gene Ontology):GO:0071944 Cell periphery\n",
      "Term:Cellular Component (Gene Ontology):GO:0110165 Cellular anatomical entity\n",
      "Term:Local Network Cluster (STRING):CL:3849 Mixed, incl. Peptidoglycan metabolic process, and Phosphoprotein\n",
      "Term:Local Network Cluster (STRING):CL:3850 Mixed, incl. Regulation of cell shape, and Phosphoprotein\n",
      "Term:Local Network Cluster (STRING):CL:3851 Mixed, incl. Regulation of cell shape, and Protein serine kinase activity\n",
      "Term:Local Network Cluster (STRING):CL:3939 Mixed, incl. Protein serine kinase activity, and Forkhead-associated (FHA) domain\n",
      "Term:Local Network Cluster (STRING):CL:3941 Mixed, incl. Protein serine kinase activity, and Forkhead-associated (FHA) domain\n",
      "Term:Local Network Cluster (STRING):CL:3943 Forkhead-associated (FHA) domain, and Protein serine kinase activity\n",
      "Term:Local Network Cluster (STRING):CL:3947 Forkhead-associated (FHA) domain, and Peptidoglycan transport\n",
      "Term:Molecular Function (Gene Ontology):GO:0000166 Nucleotide binding\n",
      "Term:Molecular Function (Gene Ontology):GO:0003824 Catalytic activity\n",
      "Term:Molecular Function (Gene Ontology):GO:0004672 Protein kinase activity\n",
      "Term:Molecular Function (Gene Ontology):GO:0004674 Protein serine/threonine kinase activity\n",
      "Term:Molecular Function (Gene Ontology):GO:0005488 Binding\n",
      "Term:Molecular Function (Gene Ontology):GO:0005515 Protein binding\n",
      "Term:Molecular Function (Gene Ontology):GO:0005524 ATP binding\n",
      "Term:Molecular Function (Gene Ontology):GO:0008047 Enzyme activator activity\n",
      "Term:Molecular Function (Gene Ontology):GO:0010698 Acetyltransferase activator activity\n",
      "Term:Molecular Function (Gene Ontology):GO:0016301 Kinase activity\n",
      "Term:Molecular Function (Gene Ontology):GO:0016740 Transferase activity\n",
      "Term:Molecular Function (Gene Ontology):GO:0016772 Transferase activity, transferring phosphorus-containing groups\n",
      "Term:Molecular Function (Gene Ontology):GO:0016773 Phosphotransferase activity, alcohol group as acceptor\n",
      "Term:Molecular Function (Gene Ontology):GO:0017076 Purine nucleotide binding\n",
      "Term:Molecular Function (Gene Ontology):GO:0030145 Manganese ion binding\n",
      "Term:Molecular Function (Gene Ontology):GO:0030234 Enzyme regulator activity\n",
      "Term:Molecular Function (Gene Ontology):GO:0030554 Adenyl nucleotide binding\n",
      "Term:Molecular Function (Gene Ontology):GO:0032553 Ribonucleotide binding\n",
      "Term:Molecular Function (Gene Ontology):GO:0032555 Purine ribonucleotide binding\n",
      "Term:Molecular Function (Gene Ontology):GO:0032559 Adenyl ribonucleotide binding\n",
      "Term:Molecular Function (Gene Ontology):GO:0035639 Purine ribonucleoside triphosphate binding\n",
      "Term:Molecular Function (Gene Ontology):GO:0036094 Small molecule binding\n",
      "Term:Molecular Function (Gene Ontology):GO:0042802 Identical protein binding\n",
      "Term:Molecular Function (Gene Ontology):GO:0043167 Ion binding\n",
      "Term:Molecular Function (Gene Ontology):GO:0043168 Anion binding\n",
      "Term:Molecular Function (Gene Ontology):GO:0043169 Cation binding\n",
      "Term:Molecular Function (Gene Ontology):GO:0046872 Metal ion binding\n",
      "Term:Molecular Function (Gene Ontology):GO:0046914 Transition metal ion binding\n",
      "Term:Molecular Function (Gene Ontology):GO:0097159 Organic cyclic compound binding\n",
      "Term:Molecular Function (Gene Ontology):GO:0097367 Carbohydrate derivative binding\n",
      "Term:Molecular Function (Gene Ontology):GO:0098772 Molecular function regulator activity\n",
      "Term:Molecular Function (Gene Ontology):GO:0106310 Protein serine kinase activity\n",
      "Term:Molecular Function (Gene Ontology):GO:0140096 Catalytic activity, acting on a protein\n",
      "Term:Molecular Function (Gene Ontology):GO:1901265 Nucleoside phosphate binding\n",
      "Term:Molecular Function (Gene Ontology):GO:1901363 Heterocyclic compound binding\n",
      "Term:Protein Domains and Features (InterPro):IPR000719 Protein kinase domain\n",
      "Term:Protein Domains and Features (InterPro):IPR005543 PASTA domain\n",
      "Term:Protein Domains and Features (InterPro):IPR008271 Serine/threonine-protein kinase, active site\n",
      "Term:Protein Domains and Features (InterPro):IPR011009 Protein kinase-like domain superfamily\n",
      "Term:Protein Domains and Features (InterPro):IPR017441 Protein kinase, ATP binding site\n",
      "Term:Subcellular localization (COMPARTMENTS):GOCC:0005622 Intracellular\n",
      "Term:Subcellular localization (COMPARTMENTS):GOCC:0031411 Gas vesicle\n",
      "Term:Subcellular localization (COMPARTMENTS):GOCC:0033172 Gas vesicle shell\n",
      "Term:Subcellular localization (COMPARTMENTS):GOCC:0043226 Organelle\n",
      "Term:Subcellular localization (COMPARTMENTS):GOCC:0043228 Non-membrane-bounded organelle\n",
      "Term:Subcellular localization (COMPARTMENTS):GOCC:0043229 Intracellular organelle\n",
      "Term:Subcellular localization (COMPARTMENTS):GOCC:0043232 Intracellular non-membrane-bounded organelle\n",
      "Term:Subcellular localization (COMPARTMENTS):GOCC:0110165 Cellular anatomical entity\n"
     ]
    }
   ],
   "source": [
    "p_terms = get_terms_for_protein(protein_id)\n",
    "print(f\"Terms for {protein_id}:\")\n",
    "for t in p_terms:\n",
    "    print(t, G.nodes[t].get('description',''))"
   ]
  },
  {
   "cell_type": "markdown",
   "metadata": {},
   "source": [
    "### 9.4 Cluster Hierarchy"
   ]
  },
  {
   "cell_type": "markdown",
   "metadata": {},
   "source": [
    "- Follows the `\"PARENT_OF\"` edges up the hierarchy to get all parent clusters.  \n",
    "- Demonstrates how to navigate the cluster tree."
   ]
  },
  {
   "cell_type": "code",
   "execution_count": 56,
   "metadata": {},
   "outputs": [],
   "source": [
    "def get_cluster_lineage(cluster_id):\n",
    "    # Follow parent_of edges up the hierarchy\n",
    "    lineage = [cluster_id]\n",
    "    current = cluster_id\n",
    "    # Edges are directed, we must be careful about direction. We stored cluster_id as child -> parent edges.\n",
    "    # If label is 'PARENT_OF', then parent is v\n",
    "    # Let's assume 'PARENT_OF' means child -> parent edge\n",
    "    while True:\n",
    "        # find edges where current -> parent\n",
    "        parents = [v for u,v,k in G.out_edges(current, keys=True) if G[u][v][k].get('label')=='PARENT_OF']\n",
    "        if not parents:\n",
    "            break\n",
    "        # Take the first parent (assuming a single parent)\n",
    "        current = parents[0]\n",
    "        lineage.append(current)\n",
    "    return lineage"
   ]
  },
  {
   "cell_type": "code",
   "execution_count": 57,
   "metadata": {},
   "outputs": [
    {
     "name": "stdout",
     "output_type": "stream",
     "text": [
      "Lineage for CL:7984: ['CL:7984', 'CL:7947', 'CL:26', 'CL:23', 'CL:21', 'CL:16', 'CL:12', 'CL:10', 'CL:5', 'CL:0']\n"
     ]
    }
   ],
   "source": [
    "some_cluster = \"CL:7984\"\n",
    "lineage = get_cluster_lineage(some_cluster)\n",
    "print(f\"Lineage for {some_cluster}:\", lineage)"
   ]
  },
  {
   "cell_type": "code",
   "execution_count": 58,
   "metadata": {},
   "outputs": [],
   "source": [
    "def get_child_species(species_node):\n",
    "    children = []\n",
    "    for u,v,k in G.in_edges(species_node, keys=True):\n",
    "        if G[u][v][k].get('label') == 'CHILD_OF':\n",
    "            # u is child species\n",
    "            children.append(u)\n",
    "    return children"
   ]
  },
  {
   "cell_type": "code",
   "execution_count": 59,
   "metadata": {},
   "outputs": [
    {
     "name": "stdout",
     "output_type": "stream",
     "text": [
      "Child species of 83332: ['Species:747078', 'Species:757417', 'Species:757418', 'Species:757419', 'Species:757420', 'Species:757421', 'Species:757422', 'Species:1404322', 'Species:1437856']\n"
     ]
    }
   ],
   "source": [
    "some_species = \"Species:83332\"\n",
    "child_species = get_child_species(some_species)\n",
    "print(\"Child species of 83332:\", child_species)"
   ]
  },
  {
   "cell_type": "code",
   "execution_count": 60,
   "metadata": {},
   "outputs": [
    {
     "name": "stdout",
     "output_type": "stream",
     "text": [
      "Unknown             2199643\n",
      "OrthologousGroup     614554\n",
      "Alias                 91922\n",
      "Species               12535\n",
      "Term                  10887\n",
      "Protein                4026\n",
      "Cluster                1001\n",
      "Name: label, dtype: int64\n"
     ]
    }
   ],
   "source": [
    "node_data = []\n",
    "for n in G.nodes():\n",
    "    node_data.append((n, G.nodes[n].get('label','Unknown')))\n",
    "\n",
    "nodes_df = pd.DataFrame(node_data, columns=['node','label'])\n",
    "print(nodes_df['label'].value_counts())"
   ]
  },
  {
   "cell_type": "markdown",
   "metadata": {},
   "source": [
    "## 10. Graph Save"
   ]
  },
  {
   "cell_type": "code",
   "execution_count": 32,
   "metadata": {},
   "outputs": [
    {
     "name": "stdout",
     "output_type": "stream",
     "text": [
      "Knowledge Graph construction complete!\n"
     ]
    }
   ],
   "source": [
    "nx.write_graphml(G, \"string_kg.graphml\")\n",
    "\n",
    "print(\"Knowledge Graph construction complete!\")"
   ]
  },
  {
   "cell_type": "markdown",
   "metadata": {},
   "source": [
    "## Summary\n",
    "\n",
    "1. We installed required libraries and downloaded raw STRING data.  \n",
    "2. We extracted the data and loaded them into **pandas** DataFrames.  \n",
    "3. We created a **NetworkX MultiDiGraph** and inserted nodes/edges for **proteins, species, clusters, orthologous groups, physical and functional interactions, etc.**  \n",
    "4. We performed some **basic graph statistics** (counts, label distribution, top hub proteins).  \n",
    "5. We **exported** the final integrated knowledge graph as `string_kg.graphml`.  "
   ]
  }
 ],
 "metadata": {
  "kernelspec": {
   "display_name": "Python 3",
   "language": "python",
   "name": "python3"
  },
  "language_info": {
   "codemirror_mode": {
    "name": "ipython",
    "version": 3
   },
   "file_extension": ".py",
   "mimetype": "text/x-python",
   "name": "python",
   "nbconvert_exporter": "python",
   "pygments_lexer": "ipython3",
   "version": "3.10.6"
  }
 },
 "nbformat": 4,
 "nbformat_minor": 2
}
